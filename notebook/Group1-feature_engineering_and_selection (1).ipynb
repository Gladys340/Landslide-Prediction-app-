{
 "cells": [
  {
   "cell_type": "markdown",
   "metadata": {},
   "source": [
    "## Explolatory Data Analysis For Landslide Prevention and Innovation Dataset"
   ]
  },
  {
   "cell_type": "markdown",
   "metadata": {},
   "source": [
    "### Understand The Problem Statement\n",
    "\n",
    "The core of our project is to design and shape the future of landslide prevention and management with the example of Hong Kong.\n",
    "\n",
    "Hong Kong is one of the hilliest and most densely populated cities in the world which is frequently hit by extreme rainfall and is therefore highly susceptible to rain-induced landslides. A landslide is the movement of masses of rock, debris, or earth down a slope and can result in significant loss of life and property. A high-quality landslide inventory is essential not only for landslide hazard and risk analysis but also for supporting agency decisions on landslide hazard mitigation and prevention.\n",
    "\n",
    "The common practice of identifying landslides is visual interpretation which, however, is labor-intensive and time-consuming"
   ]
  },
  {
   "cell_type": "markdown",
   "metadata": {},
   "source": [
    "### Type of the Problem\n",
    "It is a classification problem where we have to automate landslide identification using artificial intelligence techniques"
   ]
  },
  {
   "cell_type": "markdown",
   "metadata": {},
   "source": [
    "### Load Python Packages"
   ]
  },
  {
   "cell_type": "code",
   "execution_count": 1,
   "metadata": {},
   "outputs": [],
   "source": [
    "# import important modules \n",
    "\n",
    "import pandas as pd\n",
    "import numpy as np\n",
    "import matplotlib.pyplot as plt\n",
    "import seaborn as sns  \n",
    "plt.rcParams[\"axes.labelsize\"] = 18\n",
    "import warnings\n",
    "warnings.filterwarnings('ignore')\n",
    "%matplotlib inline \n",
    "import joblib"
   ]
  },
  {
   "cell_type": "markdown",
   "metadata": {},
   "source": [
    "## Load Dataset"
   ]
  },
  {
   "cell_type": "code",
   "execution_count": 2,
   "metadata": {},
   "outputs": [],
   "source": [
    "# Import data\n",
    "new_data= pd.read_csv('Train.csv')\n"
   ]
  },
  {
   "cell_type": "code",
   "execution_count": 3,
   "metadata": {},
   "outputs": [
    {
     "name": "stdout",
     "output_type": "stream",
     "text": [
      "train data shape : (10864, 227)\n"
     ]
    }
   ],
   "source": [
    "# print shape \n",
    "print('train data shape :', new_data.shape)"
   ]
  },
  {
   "cell_type": "markdown",
   "metadata": {},
   "source": [
    "The above output show the number of rows and columns for dataset "
   ]
  },
  {
   "cell_type": "code",
   "execution_count": 4,
   "metadata": {},
   "outputs": [
    {
     "data": {
      "text/html": [
       "<div>\n",
       "<style scoped>\n",
       "    .dataframe tbody tr th:only-of-type {\n",
       "        vertical-align: middle;\n",
       "    }\n",
       "\n",
       "    .dataframe tbody tr th {\n",
       "        vertical-align: top;\n",
       "    }\n",
       "\n",
       "    .dataframe thead th {\n",
       "        text-align: right;\n",
       "    }\n",
       "</style>\n",
       "<table border=\"1\" class=\"dataframe\">\n",
       "  <thead>\n",
       "    <tr style=\"text-align: right;\">\n",
       "      <th></th>\n",
       "      <th>Sample_ID</th>\n",
       "      <th>1_elevation</th>\n",
       "      <th>2_elevation</th>\n",
       "      <th>3_elevation</th>\n",
       "      <th>4_elevation</th>\n",
       "      <th>5_elevation</th>\n",
       "      <th>6_elevation</th>\n",
       "      <th>7_elevation</th>\n",
       "      <th>8_elevation</th>\n",
       "      <th>9_elevation</th>\n",
       "      <th>...</th>\n",
       "      <th>17_sdoif</th>\n",
       "      <th>18_sdoif</th>\n",
       "      <th>19_sdoif</th>\n",
       "      <th>20_sdoif</th>\n",
       "      <th>21_sdoif</th>\n",
       "      <th>22_sdoif</th>\n",
       "      <th>23_sdoif</th>\n",
       "      <th>24_sdoif</th>\n",
       "      <th>25_sdoif</th>\n",
       "      <th>Label</th>\n",
       "    </tr>\n",
       "  </thead>\n",
       "  <tbody>\n",
       "    <tr>\n",
       "      <th>0</th>\n",
       "      <td>1</td>\n",
       "      <td>130</td>\n",
       "      <td>129</td>\n",
       "      <td>127</td>\n",
       "      <td>126</td>\n",
       "      <td>123</td>\n",
       "      <td>126</td>\n",
       "      <td>125</td>\n",
       "      <td>124</td>\n",
       "      <td>122</td>\n",
       "      <td>...</td>\n",
       "      <td>1.281779</td>\n",
       "      <td>1.281743</td>\n",
       "      <td>1.281720</td>\n",
       "      <td>1.281684</td>\n",
       "      <td>1.281811</td>\n",
       "      <td>1.281788</td>\n",
       "      <td>1.281752</td>\n",
       "      <td>1.281729</td>\n",
       "      <td>1.281693</td>\n",
       "      <td>0</td>\n",
       "    </tr>\n",
       "    <tr>\n",
       "      <th>1</th>\n",
       "      <td>2</td>\n",
       "      <td>161</td>\n",
       "      <td>158</td>\n",
       "      <td>155</td>\n",
       "      <td>153</td>\n",
       "      <td>151</td>\n",
       "      <td>162</td>\n",
       "      <td>159</td>\n",
       "      <td>155</td>\n",
       "      <td>153</td>\n",
       "      <td>...</td>\n",
       "      <td>1.359639</td>\n",
       "      <td>1.359608</td>\n",
       "      <td>1.359587</td>\n",
       "      <td>1.359556</td>\n",
       "      <td>1.359683</td>\n",
       "      <td>1.359662</td>\n",
       "      <td>1.359631</td>\n",
       "      <td>1.359610</td>\n",
       "      <td>1.359579</td>\n",
       "      <td>1</td>\n",
       "    </tr>\n",
       "    <tr>\n",
       "      <th>2</th>\n",
       "      <td>3</td>\n",
       "      <td>149</td>\n",
       "      <td>151</td>\n",
       "      <td>154</td>\n",
       "      <td>156</td>\n",
       "      <td>158</td>\n",
       "      <td>154</td>\n",
       "      <td>157</td>\n",
       "      <td>158</td>\n",
       "      <td>160</td>\n",
       "      <td>...</td>\n",
       "      <td>1.365005</td>\n",
       "      <td>1.365025</td>\n",
       "      <td>1.365055</td>\n",
       "      <td>1.365075</td>\n",
       "      <td>1.364937</td>\n",
       "      <td>1.364967</td>\n",
       "      <td>1.364988</td>\n",
       "      <td>1.365018</td>\n",
       "      <td>1.365038</td>\n",
       "      <td>0</td>\n",
       "    </tr>\n",
       "    <tr>\n",
       "      <th>3</th>\n",
       "      <td>4</td>\n",
       "      <td>80</td>\n",
       "      <td>78</td>\n",
       "      <td>77</td>\n",
       "      <td>75</td>\n",
       "      <td>73</td>\n",
       "      <td>80</td>\n",
       "      <td>78</td>\n",
       "      <td>77</td>\n",
       "      <td>75</td>\n",
       "      <td>...</td>\n",
       "      <td>1.100708</td>\n",
       "      <td>1.100738</td>\n",
       "      <td>1.100759</td>\n",
       "      <td>1.100789</td>\n",
       "      <td>1.100630</td>\n",
       "      <td>1.100650</td>\n",
       "      <td>1.100680</td>\n",
       "      <td>1.100700</td>\n",
       "      <td>1.100731</td>\n",
       "      <td>0</td>\n",
       "    </tr>\n",
       "    <tr>\n",
       "      <th>4</th>\n",
       "      <td>5</td>\n",
       "      <td>117</td>\n",
       "      <td>115</td>\n",
       "      <td>114</td>\n",
       "      <td>112</td>\n",
       "      <td>110</td>\n",
       "      <td>115</td>\n",
       "      <td>113</td>\n",
       "      <td>111</td>\n",
       "      <td>110</td>\n",
       "      <td>...</td>\n",
       "      <td>1.284180</td>\n",
       "      <td>1.284130</td>\n",
       "      <td>1.284056</td>\n",
       "      <td>1.284006</td>\n",
       "      <td>1.284125</td>\n",
       "      <td>1.284050</td>\n",
       "      <td>1.284001</td>\n",
       "      <td>1.283926</td>\n",
       "      <td>1.283876</td>\n",
       "      <td>0</td>\n",
       "    </tr>\n",
       "  </tbody>\n",
       "</table>\n",
       "<p>5 rows × 227 columns</p>\n",
       "</div>"
      ],
      "text/plain": [
       "   Sample_ID  1_elevation  2_elevation  3_elevation  4_elevation  5_elevation  \\\n",
       "0          1          130          129          127          126          123   \n",
       "1          2          161          158          155          153          151   \n",
       "2          3          149          151          154          156          158   \n",
       "3          4           80           78           77           75           73   \n",
       "4          5          117          115          114          112          110   \n",
       "\n",
       "   6_elevation  7_elevation  8_elevation  9_elevation  ...  17_sdoif  \\\n",
       "0          126          125          124          122  ...  1.281779   \n",
       "1          162          159          155          153  ...  1.359639   \n",
       "2          154          157          158          160  ...  1.365005   \n",
       "3           80           78           77           75  ...  1.100708   \n",
       "4          115          113          111          110  ...  1.284180   \n",
       "\n",
       "   18_sdoif  19_sdoif  20_sdoif  21_sdoif  22_sdoif  23_sdoif  24_sdoif  \\\n",
       "0  1.281743  1.281720  1.281684  1.281811  1.281788  1.281752  1.281729   \n",
       "1  1.359608  1.359587  1.359556  1.359683  1.359662  1.359631  1.359610   \n",
       "2  1.365025  1.365055  1.365075  1.364937  1.364967  1.364988  1.365018   \n",
       "3  1.100738  1.100759  1.100789  1.100630  1.100650  1.100680  1.100700   \n",
       "4  1.284130  1.284056  1.284006  1.284125  1.284050  1.284001  1.283926   \n",
       "\n",
       "   25_sdoif  Label  \n",
       "0  1.281693      0  \n",
       "1  1.359579      1  \n",
       "2  1.365038      0  \n",
       "3  1.100731      0  \n",
       "4  1.283876      0  \n",
       "\n",
       "[5 rows x 227 columns]"
      ]
     },
     "execution_count": 4,
     "metadata": {},
     "output_type": "execute_result"
    }
   ],
   "source": [
    "# Inspect Data by shing the first five rows \n",
    "new_data.head()"
   ]
  },
  {
   "cell_type": "markdown",
   "metadata": {},
   "source": [
    "### Explolatory Data Analysis \n",
    "\n",
    "This is the process of finding some insights from you dataset before create predictive models.\n"
   ]
  },
  {
   "cell_type": "code",
   "execution_count": 5,
   "metadata": {},
   "outputs": [
    {
     "data": {
      "text/plain": [
       "['Sample_ID',\n",
       " '1_elevation',\n",
       " '2_elevation',\n",
       " '3_elevation',\n",
       " '4_elevation',\n",
       " '5_elevation',\n",
       " '6_elevation',\n",
       " '7_elevation',\n",
       " '8_elevation',\n",
       " '9_elevation',\n",
       " '10_elevation',\n",
       " '11_elevation',\n",
       " '12_elevation',\n",
       " '13_elevation',\n",
       " '14_elevation',\n",
       " '15_elevation',\n",
       " '16_elevation',\n",
       " '17_elevation',\n",
       " '18_elevation',\n",
       " '19_elevation',\n",
       " '20_elevation',\n",
       " '21_elevation',\n",
       " '22_elevation',\n",
       " '23_elevation',\n",
       " '24_elevation',\n",
       " '25_elevation',\n",
       " '1_slope',\n",
       " '2_slope',\n",
       " '3_slope',\n",
       " '4_slope',\n",
       " '5_slope',\n",
       " '6_slope',\n",
       " '7_slope',\n",
       " '8_slope',\n",
       " '9_slope',\n",
       " '10_slope',\n",
       " '11_slope',\n",
       " '12_slope',\n",
       " '13_slope',\n",
       " '14_slope',\n",
       " '15_slope',\n",
       " '16_slope',\n",
       " '17_slope',\n",
       " '18_slope',\n",
       " '19_slope',\n",
       " '20_slope',\n",
       " '21_slope',\n",
       " '22_slope',\n",
       " '23_slope',\n",
       " '24_slope',\n",
       " '25_slope',\n",
       " '1_aspect',\n",
       " '2_aspect',\n",
       " '3_aspect',\n",
       " '4_aspect',\n",
       " '5_aspect',\n",
       " '6_aspect',\n",
       " '7_aspect',\n",
       " '8_aspect',\n",
       " '9_aspect',\n",
       " '10_aspect',\n",
       " '11_aspect',\n",
       " '12_aspect',\n",
       " '13_aspect',\n",
       " '14_aspect',\n",
       " '15_aspect',\n",
       " '16_aspect',\n",
       " '17_aspect',\n",
       " '18_aspect',\n",
       " '19_aspect',\n",
       " '20_aspect',\n",
       " '21_aspect',\n",
       " '22_aspect',\n",
       " '23_aspect',\n",
       " '24_aspect',\n",
       " '25_aspect',\n",
       " '1_placurv',\n",
       " '2_placurv',\n",
       " '3_placurv',\n",
       " '4_placurv',\n",
       " '5_placurv',\n",
       " '6_placurv',\n",
       " '7_placurv',\n",
       " '8_placurv',\n",
       " '9_placurv',\n",
       " '10_placurv',\n",
       " '11_placurv',\n",
       " '12_placurv',\n",
       " '13_placurv',\n",
       " '14_placurv',\n",
       " '15_placurv',\n",
       " '16_placurv',\n",
       " '17_placurv',\n",
       " '18_placurv',\n",
       " '19_placurv',\n",
       " '20_placurv',\n",
       " '21_placurv',\n",
       " '22_placurv',\n",
       " '23_placurv',\n",
       " '24_placurv',\n",
       " '25_placurv',\n",
       " '1_procurv',\n",
       " '2_procurv',\n",
       " '3_procurv',\n",
       " '4_procurv',\n",
       " '5_procurv',\n",
       " '6_procurv',\n",
       " '7_procurv',\n",
       " '8_procurv',\n",
       " '9_procurv',\n",
       " '10_procurv',\n",
       " '11_procurv',\n",
       " '12_procurv',\n",
       " '13_procurv',\n",
       " '14_procurv',\n",
       " '15_procurv',\n",
       " '16_procurv',\n",
       " '17_procurv',\n",
       " '18_procurv',\n",
       " '19_procurv',\n",
       " '20_procurv',\n",
       " '21_procurv',\n",
       " '22_procurv',\n",
       " '23_procurv',\n",
       " '24_procurv',\n",
       " '25_procurv',\n",
       " '1_lsfactor',\n",
       " '2_lsfactor',\n",
       " '3_lsfactor',\n",
       " '4_lsfactor',\n",
       " '5_lsfactor',\n",
       " '6_lsfactor',\n",
       " '7_lsfactor',\n",
       " '8_lsfactor',\n",
       " '9_lsfactor',\n",
       " '10_lsfactor',\n",
       " '11_lsfactor',\n",
       " '12_lsfactor',\n",
       " '13_lsfactor',\n",
       " '14_lsfactor',\n",
       " '15_lsfactor',\n",
       " '16_lsfactor',\n",
       " '17_lsfactor',\n",
       " '18_lsfactor',\n",
       " '19_lsfactor',\n",
       " '20_lsfactor',\n",
       " '21_lsfactor',\n",
       " '22_lsfactor',\n",
       " '23_lsfactor',\n",
       " '24_lsfactor',\n",
       " '25_lsfactor',\n",
       " '1_twi',\n",
       " '2_twi',\n",
       " '3_twi',\n",
       " '4_twi',\n",
       " '5_twi',\n",
       " '6_twi',\n",
       " '7_twi',\n",
       " '8_twi',\n",
       " '9_twi',\n",
       " '10_twi',\n",
       " '11_twi',\n",
       " '12_twi',\n",
       " '13_twi',\n",
       " '14_twi',\n",
       " '15_twi',\n",
       " '16_twi',\n",
       " '17_twi',\n",
       " '18_twi',\n",
       " '19_twi',\n",
       " '20_twi',\n",
       " '21_twi',\n",
       " '22_twi',\n",
       " '23_twi',\n",
       " '24_twi',\n",
       " '25_twi',\n",
       " '1_geology',\n",
       " '2_geology',\n",
       " '3_geology',\n",
       " '4_geology',\n",
       " '5_geology',\n",
       " '6_geology',\n",
       " '7_geology',\n",
       " '8_geology',\n",
       " '9_geology',\n",
       " '10_geology',\n",
       " '11_geology',\n",
       " '12_geology',\n",
       " '13_geology',\n",
       " '14_geology',\n",
       " '15_geology',\n",
       " '16_geology',\n",
       " '17_geology',\n",
       " '18_geology',\n",
       " '19_geology',\n",
       " '20_geology',\n",
       " '21_geology',\n",
       " '22_geology',\n",
       " '23_geology',\n",
       " '24_geology',\n",
       " '25_geology',\n",
       " '1_sdoif',\n",
       " '2_sdoif',\n",
       " '3_sdoif',\n",
       " '4_sdoif',\n",
       " '5_sdoif',\n",
       " '6_sdoif',\n",
       " '7_sdoif',\n",
       " '8_sdoif',\n",
       " '9_sdoif',\n",
       " '10_sdoif',\n",
       " '11_sdoif',\n",
       " '12_sdoif',\n",
       " '13_sdoif',\n",
       " '14_sdoif',\n",
       " '15_sdoif',\n",
       " '16_sdoif',\n",
       " '17_sdoif',\n",
       " '18_sdoif',\n",
       " '19_sdoif',\n",
       " '20_sdoif',\n",
       " '21_sdoif',\n",
       " '22_sdoif',\n",
       " '23_sdoif',\n",
       " '24_sdoif',\n",
       " '25_sdoif',\n",
       " 'Label']"
      ]
     },
     "execution_count": 5,
     "metadata": {},
     "output_type": "execute_result"
    }
   ],
   "source": [
    "#show list of columns \n",
    "list(new_data.columns)  "
   ]
  },
  {
   "cell_type": "code",
   "execution_count": 6,
   "metadata": {},
   "outputs": [
    {
     "name": "stdout",
     "output_type": "stream",
     "text": [
      "<class 'pandas.core.frame.DataFrame'>\n",
      "RangeIndex: 10864 entries, 0 to 10863\n",
      "Columns: 227 entries, Sample_ID to Label\n",
      "dtypes: float64(175), int64(52)\n",
      "memory usage: 18.8 MB\n",
      "None\n"
     ]
    }
   ],
   "source": [
    "## show Some information about the dataset \n",
    "print(new_data.info())"
   ]
  },
  {
   "cell_type": "markdown",
   "metadata": {},
   "source": [
    "The outshow shows the list of variables , sizes and data types in each variables. This will help us to know what feature engineering you can apply."
   ]
  },
  {
   "cell_type": "code",
   "execution_count": 7,
   "metadata": {},
   "outputs": [
    {
     "name": "stdout",
     "output_type": "stream",
     "text": [
      "missing values: Sample_ID      0\n",
      "1_elevation    0\n",
      "2_elevation    0\n",
      "3_elevation    0\n",
      "4_elevation    0\n",
      "              ..\n",
      "22_sdoif       0\n",
      "23_sdoif       0\n",
      "24_sdoif       0\n",
      "25_sdoif       0\n",
      "Label          0\n",
      "Length: 227, dtype: int64\n",
      "\n",
      "Total number of missing values is: 0\n"
     ]
    }
   ],
   "source": [
    "# Check for missing values\n",
    "print('missing values:', new_data.isnull().sum())\n",
    "print('')\n",
    "print('Total number of missing values is:', new_data.isnull().sum().sum())"
   ]
  },
  {
   "cell_type": "markdown",
   "metadata": {},
   "source": [
    "We don't have missing data in our dataset."
   ]
  },
  {
   "cell_type": "markdown",
   "metadata": {},
   "source": [
    "### FEATURE ENGINEERING "
   ]
  },
  {
   "cell_type": "code",
   "execution_count": 8,
   "metadata": {},
   "outputs": [
    {
     "data": {
      "text/plain": [
       "(10864, 10)"
      ]
     },
     "execution_count": 8,
     "metadata": {},
     "output_type": "execute_result"
    }
   ],
   "source": [
    "#remove id feature \n",
    "\n",
    "data = new_data.drop(['Sample_ID','1_elevation','2_elevation','3_elevation','4_elevation','5_elevation','6_elevation','7_elevation','8_elevation','9_elevation','10_elevation','11_elevation','12_elevation','14_elevation','15_elevation','16_elevation','17_elevation','18_elevation','19_elevation','20_elevation','21_elevation','22_elevation','23_elevation','24_elevation','25_elevation','1_slope','2_slope','3_slope','4_slope','5_slope','6_slope','7_slope','8_slope','9_slope','10_slope','11_slope','12_slope','14_slope','15_slope','16_slope','17_slope','18_slope','19_slope','20_slope','21_slope','22_slope','23_slope','24_slope','25_slope','1_aspect','2_aspect','3_aspect','4_aspect','5_aspect','6_aspect','7_aspect','8_aspect','9_aspect','10_aspect','11_aspect','12_aspect','14_aspect','15_aspect','16_aspect','17_aspect','18_aspect','19_aspect','20_aspect','21_aspect','22_aspect','23_aspect','24_aspect','25_aspect','1_placurv','2_placurv','3_placurv','4_placurv','5_placurv','6_placurv','7_placurv','8_placurv','9_placurv','10_placurv','11_placurv','12_placurv','14_placurv','15_placurv','16_placurv','17_placurv','18_placurv','19_placurv','20_placurv','21_placurv','22_placurv','23_placurv','24_placurv','25_placurv','1_procurv','2_procurv','3_procurv','4_procurv','5_procurv','6_procurv','7_procurv','8_procurv','9_procurv','10_procurv','11_procurv','12_procurv','14_procurv','15_procurv','16_procurv','17_procurv','18_procurv','19_procurv','20_procurv','21_procurv','22_procurv','23_procurv','24_procurv','25_procurv','1_lsfactor','2_lsfactor','3_lsfactor','4_lsfactor','5_lsfactor','6_lsfactor','7_lsfactor','8_lsfactor','9_lsfactor','10_lsfactor','11_lsfactor','12_lsfactor','14_lsfactor','15_lsfactor','16_lsfactor','17_lsfactor','18_lsfactor','19_lsfactor','20_lsfactor','21_lsfactor','22_lsfactor','23_lsfactor','24_lsfactor','25_lsfactor','1_twi','2_twi','3_twi','4_twi','5_twi','6_twi','7_twi','8_twi','9_twi','10_twi','11_twi','12_twi','14_twi','15_twi','16_twi','17_twi','18_twi','19_twi','20_twi','21_twi','22_twi','23_twi','24_twi','25_twi','1_geology','2_geology','3_geology','4_geology','5_geology','6_geology','7_geology','8_geology','9_geology','10_geology','11_geology','12_geology','14_geology','15_geology','16_geology','17_geology','18_geology','19_geology','20_geology','21_geology','22_geology','23_geology','24_geology','25_geology','1_sdoif','2_sdoif','3_sdoif','4_sdoif','5_sdoif','6_sdoif','7_sdoif','8_sdoif','9_sdoif','10_sdoif','11_sdoif','12_sdoif','14_sdoif','15_sdoif','16_sdoif','17_sdoif','18_sdoif','19_sdoif','20_sdoif','21_sdoif','22_sdoif','23_sdoif','24_sdoif','25_sdoif',], axis=1)\n",
    "\n",
    "data.shape "
   ]
  },
  {
   "cell_type": "code",
   "execution_count": 9,
   "metadata": {},
   "outputs": [
    {
     "data": {
      "text/plain": [
       "Index(['13_elevation', '13_slope', '13_aspect', '13_placurv', '13_procurv',\n",
       "       '13_lsfactor', '13_twi', '13_geology', '13_sdoif', 'Label'],\n",
       "      dtype='object')"
      ]
     },
     "execution_count": 9,
     "metadata": {},
     "output_type": "execute_result"
    }
   ],
   "source": [
    "#remove id feature \n",
    "\n",
    "data5 = new_data.drop(['Sample_ID','1_elevation','2_elevation','3_elevation','4_elevation','5_elevation','6_elevation','7_elevation','8_elevation','9_elevation','10_elevation','11_elevation','12_elevation','14_elevation','15_elevation','16_elevation','17_elevation','18_elevation','19_elevation','20_elevation','21_elevation','22_elevation','23_elevation','24_elevation','25_elevation','1_slope','2_slope','3_slope','4_slope','5_slope','6_slope','7_slope','8_slope','9_slope','10_slope','11_slope','12_slope','14_slope','15_slope','16_slope','17_slope','18_slope','19_slope','20_slope','21_slope','22_slope','23_slope','24_slope','25_slope','1_aspect','2_aspect','3_aspect','4_aspect','5_aspect','6_aspect','7_aspect','8_aspect','9_aspect','10_aspect','11_aspect','12_aspect','14_aspect','15_aspect','16_aspect','17_aspect','18_aspect','19_aspect','20_aspect','21_aspect','22_aspect','23_aspect','24_aspect','25_aspect','1_placurv','2_placurv','3_placurv','4_placurv','5_placurv','6_placurv','7_placurv','8_placurv','9_placurv','10_placurv','11_placurv','12_placurv','14_placurv','15_placurv','16_placurv','17_placurv','18_placurv','19_placurv','20_placurv','21_placurv','22_placurv','23_placurv','24_placurv','25_placurv','1_procurv','2_procurv','3_procurv','4_procurv','5_procurv','6_procurv','7_procurv','8_procurv','9_procurv','10_procurv','11_procurv','12_procurv','14_procurv','15_procurv','16_procurv','17_procurv','18_procurv','19_procurv','20_procurv','21_procurv','22_procurv','23_procurv','24_procurv','25_procurv','1_lsfactor','2_lsfactor','3_lsfactor','4_lsfactor','5_lsfactor','6_lsfactor','7_lsfactor','8_lsfactor','9_lsfactor','10_lsfactor','11_lsfactor','12_lsfactor','14_lsfactor','15_lsfactor','16_lsfactor','17_lsfactor','18_lsfactor','19_lsfactor','20_lsfactor','21_lsfactor','22_lsfactor','23_lsfactor','24_lsfactor','25_lsfactor','1_twi','2_twi','3_twi','4_twi','5_twi','6_twi','7_twi','8_twi','9_twi','10_twi','11_twi','12_twi','14_twi','15_twi','16_twi','17_twi','18_twi','19_twi','20_twi','21_twi','22_twi','23_twi','24_twi','25_twi','1_geology','2_geology','3_geology','4_geology','5_geology','6_geology','7_geology','8_geology','9_geology','10_geology','11_geology','12_geology','14_geology','15_geology','16_geology','17_geology','18_geology','19_geology','20_geology','21_geology','22_geology','23_geology','24_geology','25_geology','1_sdoif','2_sdoif','3_sdoif','4_sdoif','5_sdoif','6_sdoif','7_sdoif','8_sdoif','9_sdoif','10_sdoif','11_sdoif','12_sdoif','14_sdoif','15_sdoif','16_sdoif','17_sdoif','18_sdoif','19_sdoif','20_sdoif','21_sdoif','22_sdoif','23_sdoif','24_sdoif','25_sdoif',], axis=1)\n",
    "\n",
    "data5.columns "
   ]
  },
  {
   "cell_type": "code",
   "execution_count": 10,
   "metadata": {},
   "outputs": [
    {
     "data": {
      "text/html": [
       "<div>\n",
       "<style scoped>\n",
       "    .dataframe tbody tr th:only-of-type {\n",
       "        vertical-align: middle;\n",
       "    }\n",
       "\n",
       "    .dataframe tbody tr th {\n",
       "        vertical-align: top;\n",
       "    }\n",
       "\n",
       "    .dataframe thead th {\n",
       "        text-align: right;\n",
       "    }\n",
       "</style>\n",
       "<table border=\"1\" class=\"dataframe\">\n",
       "  <thead>\n",
       "    <tr style=\"text-align: right;\">\n",
       "      <th></th>\n",
       "      <th>13_elevation</th>\n",
       "      <th>13_slope</th>\n",
       "      <th>13_aspect</th>\n",
       "      <th>13_placurv</th>\n",
       "      <th>13_procurv</th>\n",
       "      <th>13_lsfactor</th>\n",
       "      <th>13_twi</th>\n",
       "      <th>13_geology</th>\n",
       "      <th>13_sdoif</th>\n",
       "      <th>Label</th>\n",
       "    </tr>\n",
       "  </thead>\n",
       "  <tbody>\n",
       "    <tr>\n",
       "      <th>0</th>\n",
       "      <td>119</td>\n",
       "      <td>44.56372</td>\n",
       "      <td>113.9625</td>\n",
       "      <td>0.017273</td>\n",
       "      <td>0.002025</td>\n",
       "      <td>11.035840</td>\n",
       "      <td>3.154479</td>\n",
       "      <td>3</td>\n",
       "      <td>1.281730</td>\n",
       "      <td>0</td>\n",
       "    </tr>\n",
       "    <tr>\n",
       "      <th>1</th>\n",
       "      <td>156</td>\n",
       "      <td>32.31153</td>\n",
       "      <td>198.4350</td>\n",
       "      <td>0.017014</td>\n",
       "      <td>-0.003220</td>\n",
       "      <td>9.067206</td>\n",
       "      <td>4.383853</td>\n",
       "      <td>3</td>\n",
       "      <td>1.359574</td>\n",
       "      <td>1</td>\n",
       "    </tr>\n",
       "    <tr>\n",
       "      <th>2</th>\n",
       "      <td>164</td>\n",
       "      <td>45.00000</td>\n",
       "      <td>270.0000</td>\n",
       "      <td>0.043121</td>\n",
       "      <td>0.025843</td>\n",
       "      <td>13.696470</td>\n",
       "      <td>4.169325</td>\n",
       "      <td>2</td>\n",
       "      <td>1.365050</td>\n",
       "      <td>0</td>\n",
       "    </tr>\n",
       "    <tr>\n",
       "      <th>3</th>\n",
       "      <td>77</td>\n",
       "      <td>16.69924</td>\n",
       "      <td>180.0000</td>\n",
       "      <td>0.032324</td>\n",
       "      <td>0.011816</td>\n",
       "      <td>3.400196</td>\n",
       "      <td>4.259946</td>\n",
       "      <td>2</td>\n",
       "      <td>1.100826</td>\n",
       "      <td>0</td>\n",
       "    </tr>\n",
       "    <tr>\n",
       "      <th>4</th>\n",
       "      <td>109</td>\n",
       "      <td>29.49621</td>\n",
       "      <td>135.0000</td>\n",
       "      <td>-0.007245</td>\n",
       "      <td>-0.012066</td>\n",
       "      <td>8.043085</td>\n",
       "      <td>4.430152</td>\n",
       "      <td>5</td>\n",
       "      <td>1.284217</td>\n",
       "      <td>0</td>\n",
       "    </tr>\n",
       "  </tbody>\n",
       "</table>\n",
       "</div>"
      ],
      "text/plain": [
       "   13_elevation  13_slope  13_aspect  13_placurv  13_procurv  13_lsfactor  \\\n",
       "0           119  44.56372   113.9625    0.017273    0.002025    11.035840   \n",
       "1           156  32.31153   198.4350    0.017014   -0.003220     9.067206   \n",
       "2           164  45.00000   270.0000    0.043121    0.025843    13.696470   \n",
       "3            77  16.69924   180.0000    0.032324    0.011816     3.400196   \n",
       "4           109  29.49621   135.0000   -0.007245   -0.012066     8.043085   \n",
       "\n",
       "     13_twi  13_geology  13_sdoif  Label  \n",
       "0  3.154479           3  1.281730      0  \n",
       "1  4.383853           3  1.359574      1  \n",
       "2  4.169325           2  1.365050      0  \n",
       "3  4.259946           2  1.100826      0  \n",
       "4  4.430152           5  1.284217      0  "
      ]
     },
     "execution_count": 10,
     "metadata": {},
     "output_type": "execute_result"
    }
   ],
   "source": [
    "#show the first five rows after removing unneccessary columns\n",
    "data.head()"
   ]
  },
  {
   "cell_type": "code",
   "execution_count": 11,
   "metadata": {},
   "outputs": [],
   "source": [
    "from sklearn.preprocessing import OneHotEncoder"
   ]
  },
  {
   "cell_type": "code",
   "execution_count": 12,
   "metadata": {},
   "outputs": [],
   "source": [
    "oneHot = OneHotEncoder()"
   ]
  },
  {
   "cell_type": "code",
   "execution_count": 13,
   "metadata": {},
   "outputs": [],
   "source": [
    "data2=oneHot.fit_transform(data['13_geology'].values.reshape(-1,1))"
   ]
  },
  {
   "cell_type": "code",
   "execution_count": 14,
   "metadata": {},
   "outputs": [
    {
     "data": {
      "text/plain": [
       "(10864, 7)"
      ]
     },
     "execution_count": 14,
     "metadata": {},
     "output_type": "execute_result"
    }
   ],
   "source": [
    "data2.shape"
   ]
  },
  {
   "cell_type": "code",
   "execution_count": 15,
   "metadata": {},
   "outputs": [],
   "source": [
    "data2=pd.DataFrame(data2.toarray(),columns=oneHot.get_feature_names_out())"
   ]
  },
  {
   "cell_type": "code",
   "execution_count": 16,
   "metadata": {},
   "outputs": [
    {
     "data": {
      "text/html": [
       "<div>\n",
       "<style scoped>\n",
       "    .dataframe tbody tr th:only-of-type {\n",
       "        vertical-align: middle;\n",
       "    }\n",
       "\n",
       "    .dataframe tbody tr th {\n",
       "        vertical-align: top;\n",
       "    }\n",
       "\n",
       "    .dataframe thead th {\n",
       "        text-align: right;\n",
       "    }\n",
       "</style>\n",
       "<table border=\"1\" class=\"dataframe\">\n",
       "  <thead>\n",
       "    <tr style=\"text-align: right;\">\n",
       "      <th></th>\n",
       "      <th>x0_1</th>\n",
       "      <th>x0_2</th>\n",
       "      <th>x0_3</th>\n",
       "      <th>x0_4</th>\n",
       "      <th>x0_5</th>\n",
       "      <th>x0_6</th>\n",
       "      <th>x0_7</th>\n",
       "    </tr>\n",
       "  </thead>\n",
       "  <tbody>\n",
       "    <tr>\n",
       "      <th>0</th>\n",
       "      <td>0.0</td>\n",
       "      <td>0.0</td>\n",
       "      <td>1.0</td>\n",
       "      <td>0.0</td>\n",
       "      <td>0.0</td>\n",
       "      <td>0.0</td>\n",
       "      <td>0.0</td>\n",
       "    </tr>\n",
       "    <tr>\n",
       "      <th>1</th>\n",
       "      <td>0.0</td>\n",
       "      <td>0.0</td>\n",
       "      <td>1.0</td>\n",
       "      <td>0.0</td>\n",
       "      <td>0.0</td>\n",
       "      <td>0.0</td>\n",
       "      <td>0.0</td>\n",
       "    </tr>\n",
       "    <tr>\n",
       "      <th>2</th>\n",
       "      <td>0.0</td>\n",
       "      <td>1.0</td>\n",
       "      <td>0.0</td>\n",
       "      <td>0.0</td>\n",
       "      <td>0.0</td>\n",
       "      <td>0.0</td>\n",
       "      <td>0.0</td>\n",
       "    </tr>\n",
       "    <tr>\n",
       "      <th>3</th>\n",
       "      <td>0.0</td>\n",
       "      <td>1.0</td>\n",
       "      <td>0.0</td>\n",
       "      <td>0.0</td>\n",
       "      <td>0.0</td>\n",
       "      <td>0.0</td>\n",
       "      <td>0.0</td>\n",
       "    </tr>\n",
       "    <tr>\n",
       "      <th>4</th>\n",
       "      <td>0.0</td>\n",
       "      <td>0.0</td>\n",
       "      <td>0.0</td>\n",
       "      <td>0.0</td>\n",
       "      <td>1.0</td>\n",
       "      <td>0.0</td>\n",
       "      <td>0.0</td>\n",
       "    </tr>\n",
       "    <tr>\n",
       "      <th>...</th>\n",
       "      <td>...</td>\n",
       "      <td>...</td>\n",
       "      <td>...</td>\n",
       "      <td>...</td>\n",
       "      <td>...</td>\n",
       "      <td>...</td>\n",
       "      <td>...</td>\n",
       "    </tr>\n",
       "    <tr>\n",
       "      <th>10859</th>\n",
       "      <td>0.0</td>\n",
       "      <td>1.0</td>\n",
       "      <td>0.0</td>\n",
       "      <td>0.0</td>\n",
       "      <td>0.0</td>\n",
       "      <td>0.0</td>\n",
       "      <td>0.0</td>\n",
       "    </tr>\n",
       "    <tr>\n",
       "      <th>10860</th>\n",
       "      <td>0.0</td>\n",
       "      <td>0.0</td>\n",
       "      <td>1.0</td>\n",
       "      <td>0.0</td>\n",
       "      <td>0.0</td>\n",
       "      <td>0.0</td>\n",
       "      <td>0.0</td>\n",
       "    </tr>\n",
       "    <tr>\n",
       "      <th>10861</th>\n",
       "      <td>0.0</td>\n",
       "      <td>0.0</td>\n",
       "      <td>1.0</td>\n",
       "      <td>0.0</td>\n",
       "      <td>0.0</td>\n",
       "      <td>0.0</td>\n",
       "      <td>0.0</td>\n",
       "    </tr>\n",
       "    <tr>\n",
       "      <th>10862</th>\n",
       "      <td>0.0</td>\n",
       "      <td>1.0</td>\n",
       "      <td>0.0</td>\n",
       "      <td>0.0</td>\n",
       "      <td>0.0</td>\n",
       "      <td>0.0</td>\n",
       "      <td>0.0</td>\n",
       "    </tr>\n",
       "    <tr>\n",
       "      <th>10863</th>\n",
       "      <td>0.0</td>\n",
       "      <td>0.0</td>\n",
       "      <td>1.0</td>\n",
       "      <td>0.0</td>\n",
       "      <td>0.0</td>\n",
       "      <td>0.0</td>\n",
       "      <td>0.0</td>\n",
       "    </tr>\n",
       "  </tbody>\n",
       "</table>\n",
       "<p>10864 rows × 7 columns</p>\n",
       "</div>"
      ],
      "text/plain": [
       "       x0_1  x0_2  x0_3  x0_4  x0_5  x0_6  x0_7\n",
       "0       0.0   0.0   1.0   0.0   0.0   0.0   0.0\n",
       "1       0.0   0.0   1.0   0.0   0.0   0.0   0.0\n",
       "2       0.0   1.0   0.0   0.0   0.0   0.0   0.0\n",
       "3       0.0   1.0   0.0   0.0   0.0   0.0   0.0\n",
       "4       0.0   0.0   0.0   0.0   1.0   0.0   0.0\n",
       "...     ...   ...   ...   ...   ...   ...   ...\n",
       "10859   0.0   1.0   0.0   0.0   0.0   0.0   0.0\n",
       "10860   0.0   0.0   1.0   0.0   0.0   0.0   0.0\n",
       "10861   0.0   0.0   1.0   0.0   0.0   0.0   0.0\n",
       "10862   0.0   1.0   0.0   0.0   0.0   0.0   0.0\n",
       "10863   0.0   0.0   1.0   0.0   0.0   0.0   0.0\n",
       "\n",
       "[10864 rows x 7 columns]"
      ]
     },
     "execution_count": 16,
     "metadata": {},
     "output_type": "execute_result"
    }
   ],
   "source": [
    "data2"
   ]
  },
  {
   "cell_type": "code",
   "execution_count": 17,
   "metadata": {},
   "outputs": [],
   "source": [
    "data =data.drop('13_geology',axis=1)"
   ]
  },
  {
   "cell_type": "code",
   "execution_count": 18,
   "metadata": {},
   "outputs": [],
   "source": [
    "data=pd.concat([data,data2],axis=1)"
   ]
  },
  {
   "cell_type": "code",
   "execution_count": 19,
   "metadata": {},
   "outputs": [
    {
     "data": {
      "text/plain": [
       "['/Users/Lenovo/Desktop/Project/preprocessing/one_hot_encoding.pkl']"
      ]
     },
     "execution_count": 19,
     "metadata": {},
     "output_type": "execute_result"
    }
   ],
   "source": [
    "joblib.dump(data,'/Users/Lenovo/Desktop/Project/preprocessing/one_hot_encoding.pkl')"
   ]
  },
  {
   "cell_type": "code",
   "execution_count": 20,
   "metadata": {},
   "outputs": [
    {
     "data": {
      "text/html": [
       "<div>\n",
       "<style scoped>\n",
       "    .dataframe tbody tr th:only-of-type {\n",
       "        vertical-align: middle;\n",
       "    }\n",
       "\n",
       "    .dataframe tbody tr th {\n",
       "        vertical-align: top;\n",
       "    }\n",
       "\n",
       "    .dataframe thead th {\n",
       "        text-align: right;\n",
       "    }\n",
       "</style>\n",
       "<table border=\"1\" class=\"dataframe\">\n",
       "  <thead>\n",
       "    <tr style=\"text-align: right;\">\n",
       "      <th></th>\n",
       "      <th>13_elevation</th>\n",
       "      <th>13_slope</th>\n",
       "      <th>13_aspect</th>\n",
       "      <th>13_placurv</th>\n",
       "      <th>13_procurv</th>\n",
       "      <th>13_lsfactor</th>\n",
       "      <th>13_twi</th>\n",
       "      <th>13_sdoif</th>\n",
       "      <th>Label</th>\n",
       "      <th>x0_1</th>\n",
       "      <th>x0_2</th>\n",
       "      <th>x0_3</th>\n",
       "      <th>x0_4</th>\n",
       "      <th>x0_5</th>\n",
       "      <th>x0_6</th>\n",
       "      <th>x0_7</th>\n",
       "    </tr>\n",
       "  </thead>\n",
       "  <tbody>\n",
       "    <tr>\n",
       "      <th>0</th>\n",
       "      <td>119</td>\n",
       "      <td>44.56372</td>\n",
       "      <td>113.9625</td>\n",
       "      <td>0.017273</td>\n",
       "      <td>0.002025</td>\n",
       "      <td>11.035840</td>\n",
       "      <td>3.154479</td>\n",
       "      <td>1.281730</td>\n",
       "      <td>0</td>\n",
       "      <td>0.0</td>\n",
       "      <td>0.0</td>\n",
       "      <td>1.0</td>\n",
       "      <td>0.0</td>\n",
       "      <td>0.0</td>\n",
       "      <td>0.0</td>\n",
       "      <td>0.0</td>\n",
       "    </tr>\n",
       "    <tr>\n",
       "      <th>1</th>\n",
       "      <td>156</td>\n",
       "      <td>32.31153</td>\n",
       "      <td>198.4350</td>\n",
       "      <td>0.017014</td>\n",
       "      <td>-0.003220</td>\n",
       "      <td>9.067206</td>\n",
       "      <td>4.383853</td>\n",
       "      <td>1.359574</td>\n",
       "      <td>1</td>\n",
       "      <td>0.0</td>\n",
       "      <td>0.0</td>\n",
       "      <td>1.0</td>\n",
       "      <td>0.0</td>\n",
       "      <td>0.0</td>\n",
       "      <td>0.0</td>\n",
       "      <td>0.0</td>\n",
       "    </tr>\n",
       "    <tr>\n",
       "      <th>2</th>\n",
       "      <td>164</td>\n",
       "      <td>45.00000</td>\n",
       "      <td>270.0000</td>\n",
       "      <td>0.043121</td>\n",
       "      <td>0.025843</td>\n",
       "      <td>13.696470</td>\n",
       "      <td>4.169325</td>\n",
       "      <td>1.365050</td>\n",
       "      <td>0</td>\n",
       "      <td>0.0</td>\n",
       "      <td>1.0</td>\n",
       "      <td>0.0</td>\n",
       "      <td>0.0</td>\n",
       "      <td>0.0</td>\n",
       "      <td>0.0</td>\n",
       "      <td>0.0</td>\n",
       "    </tr>\n",
       "    <tr>\n",
       "      <th>3</th>\n",
       "      <td>77</td>\n",
       "      <td>16.69924</td>\n",
       "      <td>180.0000</td>\n",
       "      <td>0.032324</td>\n",
       "      <td>0.011816</td>\n",
       "      <td>3.400196</td>\n",
       "      <td>4.259946</td>\n",
       "      <td>1.100826</td>\n",
       "      <td>0</td>\n",
       "      <td>0.0</td>\n",
       "      <td>1.0</td>\n",
       "      <td>0.0</td>\n",
       "      <td>0.0</td>\n",
       "      <td>0.0</td>\n",
       "      <td>0.0</td>\n",
       "      <td>0.0</td>\n",
       "    </tr>\n",
       "    <tr>\n",
       "      <th>4</th>\n",
       "      <td>109</td>\n",
       "      <td>29.49621</td>\n",
       "      <td>135.0000</td>\n",
       "      <td>-0.007245</td>\n",
       "      <td>-0.012066</td>\n",
       "      <td>8.043085</td>\n",
       "      <td>4.430152</td>\n",
       "      <td>1.284217</td>\n",
       "      <td>0</td>\n",
       "      <td>0.0</td>\n",
       "      <td>0.0</td>\n",
       "      <td>0.0</td>\n",
       "      <td>0.0</td>\n",
       "      <td>1.0</td>\n",
       "      <td>0.0</td>\n",
       "      <td>0.0</td>\n",
       "    </tr>\n",
       "  </tbody>\n",
       "</table>\n",
       "</div>"
      ],
      "text/plain": [
       "   13_elevation  13_slope  13_aspect  13_placurv  13_procurv  13_lsfactor  \\\n",
       "0           119  44.56372   113.9625    0.017273    0.002025    11.035840   \n",
       "1           156  32.31153   198.4350    0.017014   -0.003220     9.067206   \n",
       "2           164  45.00000   270.0000    0.043121    0.025843    13.696470   \n",
       "3            77  16.69924   180.0000    0.032324    0.011816     3.400196   \n",
       "4           109  29.49621   135.0000   -0.007245   -0.012066     8.043085   \n",
       "\n",
       "     13_twi  13_sdoif  Label  x0_1  x0_2  x0_3  x0_4  x0_5  x0_6  x0_7  \n",
       "0  3.154479  1.281730      0   0.0   0.0   1.0   0.0   0.0   0.0   0.0  \n",
       "1  4.383853  1.359574      1   0.0   0.0   1.0   0.0   0.0   0.0   0.0  \n",
       "2  4.169325  1.365050      0   0.0   1.0   0.0   0.0   0.0   0.0   0.0  \n",
       "3  4.259946  1.100826      0   0.0   1.0   0.0   0.0   0.0   0.0   0.0  \n",
       "4  4.430152  1.284217      0   0.0   0.0   0.0   0.0   1.0   0.0   0.0  "
      ]
     },
     "execution_count": 20,
     "metadata": {},
     "output_type": "execute_result"
    }
   ],
   "source": [
    "#show first five rows\n",
    "data.head()"
   ]
  },
  {
   "cell_type": "code",
   "execution_count": 21,
   "metadata": {},
   "outputs": [
    {
     "data": {
      "text/plain": [
       "Index(['Sample_ID', '1_elevation', '2_elevation', '3_elevation', '4_elevation',\n",
       "       '5_elevation', '6_elevation', '7_elevation', '8_elevation',\n",
       "       '9_elevation',\n",
       "       ...\n",
       "       '17_sdoif', '18_sdoif', '19_sdoif', '20_sdoif', '21_sdoif', '22_sdoif',\n",
       "       '23_sdoif', '24_sdoif', '25_sdoif', 'Label'],\n",
       "      dtype='object', length=227)"
      ]
     },
     "execution_count": 21,
     "metadata": {},
     "output_type": "execute_result"
    }
   ],
   "source": [
    "new_data.columns"
   ]
  },
  {
   "cell_type": "code",
   "execution_count": 22,
   "metadata": {},
   "outputs": [
    {
     "data": {
      "text/plain": [
       "['13_elevation',\n",
       " '13_slope',\n",
       " '13_aspect',\n",
       " '13_placurv',\n",
       " '13_procurv',\n",
       " '13_lsfactor',\n",
       " '13_twi',\n",
       " '13_sdoif',\n",
       " 'Label',\n",
       " 'x0_1',\n",
       " 'x0_2',\n",
       " 'x0_3',\n",
       " 'x0_4',\n",
       " 'x0_5',\n",
       " 'x0_6',\n",
       " 'x0_7']"
      ]
     },
     "execution_count": 22,
     "metadata": {},
     "output_type": "execute_result"
    }
   ],
   "source": [
    "# show list of columns \n",
    "\n",
    "list(data.columns)"
   ]
  },
  {
   "cell_type": "code",
   "execution_count": 23,
   "metadata": {},
   "outputs": [],
   "source": [
    "# import MinMaxScaler\n",
    "from sklearn.preprocessing import MinMaxScaler"
   ]
  },
  {
   "cell_type": "code",
   "execution_count": 24,
   "metadata": {},
   "outputs": [],
   "source": [
    "# feature scalling by using minmaxscaler method \n",
    "scaler = MinMaxScaler(feature_range=(0, 1))\n",
    "\n",
    "data3 = scaler.fit_transform(data.drop('Label',axis=1).values.reshape(-1,1))"
   ]
  },
  {
   "cell_type": "code",
   "execution_count": 25,
   "metadata": {},
   "outputs": [],
   "source": [
    "data=pd.DataFrame(data3.reshape(-1,15),columns=data.drop('Label',axis=1).columns)"
   ]
  },
  {
   "cell_type": "code",
   "execution_count": 42,
   "metadata": {},
   "outputs": [
    {
     "data": {
      "text/plain": [
       "Index(['13_elevation', '13_slope', '13_aspect', '13_placurv', '13_procurv',\n",
       "       '13_lsfactor', '13_twi', '13_sdoif', 'x0_1', 'x0_2', 'x0_3', 'x0_4',\n",
       "       'x0_5', 'x0_6', 'x0_7'],\n",
       "      dtype='object')"
      ]
     },
     "execution_count": 42,
     "metadata": {},
     "output_type": "execute_result"
    }
   ],
   "source": [
    "data.columns"
   ]
  },
  {
   "cell_type": "code",
   "execution_count": 27,
   "metadata": {},
   "outputs": [
    {
     "data": {
      "text/plain": [
       "['/Users/Lenovo/Desktop/Project/preprocessing/min-max-scaler2.pkl']"
      ]
     },
     "execution_count": 27,
     "metadata": {},
     "output_type": "execute_result"
    }
   ],
   "source": [
    "joblib.dump(scaler,'/Users/Lenovo/Desktop/Project/preprocessing/min-max-scaler2.pkl')"
   ]
  },
  {
   "cell_type": "code",
   "execution_count": 28,
   "metadata": {},
   "outputs": [
    {
     "data": {
      "text/plain": [
       "(10864, 15)"
      ]
     },
     "execution_count": 28,
     "metadata": {},
     "output_type": "execute_result"
    }
   ],
   "source": [
    "#show shape \n",
    "data.shape  "
   ]
  },
  {
   "cell_type": "code",
   "execution_count": 29,
   "metadata": {},
   "outputs": [
    {
     "data": {
      "text/html": [
       "<div>\n",
       "<style scoped>\n",
       "    .dataframe tbody tr th:only-of-type {\n",
       "        vertical-align: middle;\n",
       "    }\n",
       "\n",
       "    .dataframe tbody tr th {\n",
       "        vertical-align: top;\n",
       "    }\n",
       "\n",
       "    .dataframe thead th {\n",
       "        text-align: right;\n",
       "    }\n",
       "</style>\n",
       "<table border=\"1\" class=\"dataframe\">\n",
       "  <thead>\n",
       "    <tr style=\"text-align: right;\">\n",
       "      <th></th>\n",
       "      <th>13_elevation</th>\n",
       "      <th>13_slope</th>\n",
       "      <th>13_aspect</th>\n",
       "      <th>13_placurv</th>\n",
       "      <th>13_procurv</th>\n",
       "      <th>13_lsfactor</th>\n",
       "      <th>13_twi</th>\n",
       "      <th>13_sdoif</th>\n",
       "      <th>x0_1</th>\n",
       "      <th>x0_2</th>\n",
       "      <th>x0_3</th>\n",
       "      <th>x0_4</th>\n",
       "      <th>x0_5</th>\n",
       "      <th>x0_6</th>\n",
       "      <th>x0_7</th>\n",
       "    </tr>\n",
       "  </thead>\n",
       "  <tbody>\n",
       "    <tr>\n",
       "      <th>0</th>\n",
       "      <td>0.130646</td>\n",
       "      <td>0.049043</td>\n",
       "      <td>0.125124</td>\n",
       "      <td>0.000208</td>\n",
       "      <td>0.000191</td>\n",
       "      <td>0.012287</td>\n",
       "      <td>0.003647</td>\n",
       "      <td>0.001594</td>\n",
       "      <td>0.000189</td>\n",
       "      <td>0.000189</td>\n",
       "      <td>0.001285</td>\n",
       "      <td>0.000189</td>\n",
       "      <td>0.000189</td>\n",
       "      <td>0.000189</td>\n",
       "      <td>0.000189</td>\n",
       "    </tr>\n",
       "    <tr>\n",
       "      <th>1</th>\n",
       "      <td>0.171209</td>\n",
       "      <td>0.035611</td>\n",
       "      <td>0.217730</td>\n",
       "      <td>0.000207</td>\n",
       "      <td>0.000185</td>\n",
       "      <td>0.010129</td>\n",
       "      <td>0.004995</td>\n",
       "      <td>0.001679</td>\n",
       "      <td>0.000189</td>\n",
       "      <td>0.000189</td>\n",
       "      <td>0.001285</td>\n",
       "      <td>0.000189</td>\n",
       "      <td>0.000189</td>\n",
       "      <td>0.000189</td>\n",
       "      <td>0.000189</td>\n",
       "    </tr>\n",
       "    <tr>\n",
       "      <th>2</th>\n",
       "      <td>0.179979</td>\n",
       "      <td>0.049521</td>\n",
       "      <td>0.296185</td>\n",
       "      <td>0.000236</td>\n",
       "      <td>0.000217</td>\n",
       "      <td>0.015204</td>\n",
       "      <td>0.004759</td>\n",
       "      <td>0.001685</td>\n",
       "      <td>0.000189</td>\n",
       "      <td>0.001285</td>\n",
       "      <td>0.000189</td>\n",
       "      <td>0.000189</td>\n",
       "      <td>0.000189</td>\n",
       "      <td>0.000189</td>\n",
       "      <td>0.000189</td>\n",
       "    </tr>\n",
       "    <tr>\n",
       "      <th>3</th>\n",
       "      <td>0.084603</td>\n",
       "      <td>0.018496</td>\n",
       "      <td>0.197520</td>\n",
       "      <td>0.000224</td>\n",
       "      <td>0.000202</td>\n",
       "      <td>0.003916</td>\n",
       "      <td>0.004859</td>\n",
       "      <td>0.001395</td>\n",
       "      <td>0.000189</td>\n",
       "      <td>0.001285</td>\n",
       "      <td>0.000189</td>\n",
       "      <td>0.000189</td>\n",
       "      <td>0.000189</td>\n",
       "      <td>0.000189</td>\n",
       "      <td>0.000189</td>\n",
       "    </tr>\n",
       "    <tr>\n",
       "      <th>4</th>\n",
       "      <td>0.119684</td>\n",
       "      <td>0.032525</td>\n",
       "      <td>0.148187</td>\n",
       "      <td>0.000181</td>\n",
       "      <td>0.000175</td>\n",
       "      <td>0.009006</td>\n",
       "      <td>0.005045</td>\n",
       "      <td>0.001596</td>\n",
       "      <td>0.000189</td>\n",
       "      <td>0.000189</td>\n",
       "      <td>0.000189</td>\n",
       "      <td>0.000189</td>\n",
       "      <td>0.001285</td>\n",
       "      <td>0.000189</td>\n",
       "      <td>0.000189</td>\n",
       "    </tr>\n",
       "  </tbody>\n",
       "</table>\n",
       "</div>"
      ],
      "text/plain": [
       "   13_elevation  13_slope  13_aspect  13_placurv  13_procurv  13_lsfactor  \\\n",
       "0      0.130646  0.049043   0.125124    0.000208    0.000191     0.012287   \n",
       "1      0.171209  0.035611   0.217730    0.000207    0.000185     0.010129   \n",
       "2      0.179979  0.049521   0.296185    0.000236    0.000217     0.015204   \n",
       "3      0.084603  0.018496   0.197520    0.000224    0.000202     0.003916   \n",
       "4      0.119684  0.032525   0.148187    0.000181    0.000175     0.009006   \n",
       "\n",
       "     13_twi  13_sdoif      x0_1      x0_2      x0_3      x0_4      x0_5  \\\n",
       "0  0.003647  0.001594  0.000189  0.000189  0.001285  0.000189  0.000189   \n",
       "1  0.004995  0.001679  0.000189  0.000189  0.001285  0.000189  0.000189   \n",
       "2  0.004759  0.001685  0.000189  0.001285  0.000189  0.000189  0.000189   \n",
       "3  0.004859  0.001395  0.000189  0.001285  0.000189  0.000189  0.000189   \n",
       "4  0.005045  0.001596  0.000189  0.000189  0.000189  0.000189  0.001285   \n",
       "\n",
       "       x0_6      x0_7  \n",
       "0  0.000189  0.000189  \n",
       "1  0.000189  0.000189  \n",
       "2  0.000189  0.000189  \n",
       "3  0.000189  0.000189  \n",
       "4  0.000189  0.000189  "
      ]
     },
     "execution_count": 29,
     "metadata": {},
     "output_type": "execute_result"
    }
   ],
   "source": [
    "#show first five rows \n",
    "data.head() "
   ]
  },
  {
   "cell_type": "code",
   "execution_count": 30,
   "metadata": {},
   "outputs": [
    {
     "data": {
      "text/plain": [
       "array([[0.13064645, 0.04904312, 0.12512392, 0.00020754, 0.00019082,\n",
       "        0.01228702, 0.00364681, 0.00159374, 0.0001886 , 0.0001886 ,\n",
       "        0.00128489, 0.0001886 , 0.0001886 , 0.0001886 , 0.0001886 ]])"
      ]
     },
     "execution_count": 30,
     "metadata": {},
     "output_type": "execute_result"
    }
   ],
   "source": [
    "# show data of the first row \n",
    "data[:1].values "
   ]
  },
  {
   "cell_type": "markdown",
   "metadata": {},
   "source": [
    "### FEATURE SELECTIONS"
   ]
  },
  {
   "cell_type": "markdown",
   "metadata": {},
   "source": [
    "#### Univariate Selection"
   ]
  },
  {
   "cell_type": "code",
   "execution_count": 31,
   "metadata": {},
   "outputs": [],
   "source": [
    "# import packages \n",
    "from sklearn.feature_selection import SelectKBest\n",
    "from sklearn.feature_selection import chi2"
   ]
  },
  {
   "cell_type": "code",
   "execution_count": 32,
   "metadata": {},
   "outputs": [
    {
     "data": {
      "text/plain": [
       "(10864, 15)"
      ]
     },
     "execution_count": 32,
     "metadata": {},
     "output_type": "execute_result"
    }
   ],
   "source": [
    "data.shape"
   ]
  },
  {
   "cell_type": "code",
   "execution_count": 33,
   "metadata": {},
   "outputs": [],
   "source": [
    "#split dataset into features and target\n",
    "features = data.copy()"
   ]
  },
  {
   "cell_type": "code",
   "execution_count": 34,
   "metadata": {},
   "outputs": [],
   "source": [
    "target=new_data['Label']"
   ]
  },
  {
   "cell_type": "code",
   "execution_count": 35,
   "metadata": {},
   "outputs": [
    {
     "data": {
      "text/plain": [
       "(10864, 15)"
      ]
     },
     "execution_count": 35,
     "metadata": {},
     "output_type": "execute_result"
    }
   ],
   "source": [
    "features.shape"
   ]
  },
  {
   "cell_type": "code",
   "execution_count": 36,
   "metadata": {},
   "outputs": [
    {
     "name": "stdout",
     "output_type": "stream",
     "text": [
      "           Specs     Score\n",
      "0   13_elevation  6.864004\n",
      "1       13_slope  6.138182\n",
      "5    13_lsfactor  1.566501\n",
      "10          x0_3  0.350141\n",
      "6         13_twi  0.206482\n",
      "9           x0_2  0.142376\n",
      "2      13_aspect  0.131324\n",
      "12          x0_5  0.081219\n",
      "8           x0_1  0.054474\n",
      "7       13_sdoif  0.000563\n"
     ]
    }
   ],
   "source": [
    "#apply SelectKBest class to extract top 10 best features\n",
    "bestfeatures = SelectKBest(score_func=chi2, k=10)\n",
    "\n",
    "#train to find best features\n",
    "fit = bestfeatures.fit(features,target)\n",
    "\n",
    "#save in the dataframe \n",
    "dfscores = pd.DataFrame(fit.scores_)\n",
    "dfcolumns = pd.DataFrame(features.columns)\n",
    "\n",
    "#concat two dataframes for better visualization \n",
    "featureScores = pd.concat([dfcolumns,dfscores],axis=1)\n",
    "\n",
    "#naming the dataframe columns\n",
    "featureScores.columns = ['Specs','Score'] \n",
    "\n",
    "#print 10 best features \n",
    "print(featureScores.nlargest(10,'Score'))  "
   ]
  },
  {
   "cell_type": "markdown",
   "metadata": {},
   "source": [
    "**Where:** \n",
    "\n",
    "**1:** Weathered Cretaceous granitic rocks\n",
    "**2:** Weathered Jurassic granite rocks\n",
    "**3:** Weathered Jurassic tuff and lava\n",
    "**4:** Weathered Cretaceous tuff and lava\n",
    "**5:** Quaternary deposits\n",
    "**6:** Fill\n",
    "**7:** Weathered Jurassic sandstone, siltstone and mudstone\n",
    "\n",
    "**13_lsfactor** Length-slope factor  \n",
    "**13_twi:** Topographic wetness index \n",
    "**13_sdoif** Step duration orographic intensification factor: "
   ]
  },
  {
   "cell_type": "code",
   "execution_count": 37,
   "metadata": {},
   "outputs": [
    {
     "data": {
      "text/plain": [
       "(10864, 10)"
      ]
     },
     "execution_count": 37,
     "metadata": {},
     "output_type": "execute_result"
    }
   ],
   "source": [
    "# fit and tranform into the 10 best features \n",
    "transformer = SelectKBest(chi2, k=10)\n",
    "\n",
    "#transform from 15 features into top 10 features\n",
    "top_10_features = transformer.fit_transform(features, target)\n",
    "\n",
    "#show the shape \n",
    "top_10_features.shape "
   ]
  },
  {
   "cell_type": "markdown",
   "metadata": {},
   "source": [
    "#### Feature Importance \n"
   ]
  },
  {
   "cell_type": "code",
   "execution_count": 38,
   "metadata": {},
   "outputs": [],
   "source": [
    "#import package \n",
    "from sklearn.ensemble import ExtraTreesClassifier, RandomForestClassifier"
   ]
  },
  {
   "cell_type": "code",
   "execution_count": 39,
   "metadata": {},
   "outputs": [
    {
     "name": "stdout",
     "output_type": "stream",
     "text": [
      "[1.28612245e-01 1.44137747e-01 8.52379891e-02 9.97336998e-02\n",
      " 9.08263891e-02 1.38342253e-01 1.19995183e-01 1.23337262e-01\n",
      " 3.97379253e-03 8.98402286e-03 4.82977737e-02 1.50649928e-04\n",
      " 6.34770100e-03 3.81366979e-05 1.98515657e-03]\n"
     ]
    },
    {
     "data": {
      "image/png": "[encoded data removed]",
      "text/plain": [
       "<Figure size 1800x1800 with 1 Axes>"
      ]
     },
     "metadata": {
      "needs_background": "light"
     },
     "output_type": "display_data"
    }
   ],
   "source": [
    "#create model for training \n",
    "model = RandomForestClassifier()\n",
    "model.fit(features,target)\n",
    "\n",
    "#use inbuilt class feature_importances of tree based classifiers\n",
    "print(model.feature_importances_) \n",
    "\n",
    "#plot graph of feature importances for better visualization\n",
    "feature_importances = pd.Series(model.feature_importances_, index=features.columns)\n",
    "\n",
    "# show the first 30 important features \n",
    "\n",
    "fig= plt.figure(figsize=(25,25))\n",
    "sns.set(font_scale = 3)\n",
    "feature_importances.nlargest(30).plot(kind='barh')\n",
    "plt.show()"
   ]
  },
  {
   "cell_type": "markdown",
   "metadata": {},
   "source": [
    "#### Correlation Matrix with Heatmap"
   ]
  },
  {
   "cell_type": "code",
   "execution_count": 40,
   "metadata": {},
   "outputs": [
    {
     "data": {
      "text/plain": [
       "<AxesSubplot:>"
      ]
     },
     "execution_count": 40,
     "metadata": {},
     "output_type": "execute_result"
    },
    {
     "data": {
      "image/png": "[encoded data removed]",
      "text/plain": [
       "<Figure size 2160x2160 with 2 Axes>"
      ]
     },
     "metadata": {},
     "output_type": "display_data"
    }
   ],
   "source": [
    "#get correlations of each features in dataset\n",
    "plt.figure(figsize=(30,30))\n",
    "\n",
    "#plot heat map\n",
    "sns.set(font_scale = 3)\n",
    "# to show number set annot=True\n",
    "d = sns.heatmap(data.corr(),annot=False, cmap=\"RdPu\")\n",
    "\n",
    "#save the figure \n",
    "figure = d.get_figure()\n",
    "figure.savefig(\"heatmap_output.png\")\n",
    "\n",
    "# show the heatamp graph \n",
    "d  "
   ]
  },
  {
   "cell_type": "code",
   "execution_count": 41,
   "metadata": {
    "scrolled": false
   },
   "outputs": [
    {
     "ename": "KeyError",
     "evalue": "'Label'",
     "output_type": "error",
     "traceback": [
      "\u001b[1;31m---------------------------------------------------------------------------\u001b[0m",
      "\u001b[1;31mKeyError\u001b[0m                                  Traceback (most recent call last)",
      "File \u001b[1;32m~\\anaconda3\\lib\\site-packages\\pandas\\core\\indexes\\base.py:3621\u001b[0m, in \u001b[0;36mIndex.get_loc\u001b[1;34m(self, key, method, tolerance)\u001b[0m\n\u001b[0;32m   3620\u001b[0m \u001b[38;5;28;01mtry\u001b[39;00m:\n\u001b[1;32m-> 3621\u001b[0m     \u001b[38;5;28;01mreturn\u001b[39;00m \u001b[38;5;28;43mself\u001b[39;49m\u001b[38;5;241;43m.\u001b[39;49m\u001b[43m_engine\u001b[49m\u001b[38;5;241;43m.\u001b[39;49m\u001b[43mget_loc\u001b[49m\u001b[43m(\u001b[49m\u001b[43mcasted_key\u001b[49m\u001b[43m)\u001b[49m\n\u001b[0;32m   3622\u001b[0m \u001b[38;5;28;01mexcept\u001b[39;00m \u001b[38;5;167;01mKeyError\u001b[39;00m \u001b[38;5;28;01mas\u001b[39;00m err:\n",
      "File \u001b[1;32m~\\anaconda3\\lib\\site-packages\\pandas\\_libs\\index.pyx:136\u001b[0m, in \u001b[0;36mpandas._libs.index.IndexEngine.get_loc\u001b[1;34m()\u001b[0m\n",
      "File \u001b[1;32m~\\anaconda3\\lib\\site-packages\\pandas\\_libs\\index.pyx:163\u001b[0m, in \u001b[0;36mpandas._libs.index.IndexEngine.get_loc\u001b[1;34m()\u001b[0m\n",
      "File \u001b[1;32mpandas\\_libs\\hashtable_class_helper.pxi:5198\u001b[0m, in \u001b[0;36mpandas._libs.hashtable.PyObjectHashTable.get_item\u001b[1;34m()\u001b[0m\n",
      "File \u001b[1;32mpandas\\_libs\\hashtable_class_helper.pxi:5206\u001b[0m, in \u001b[0;36mpandas._libs.hashtable.PyObjectHashTable.get_item\u001b[1;34m()\u001b[0m\n",
      "\u001b[1;31mKeyError\u001b[0m: 'Label'",
      "\nThe above exception was the direct cause of the following exception:\n",
      "\u001b[1;31mKeyError\u001b[0m                                  Traceback (most recent call last)",
      "Input \u001b[1;32mIn [41]\u001b[0m, in \u001b[0;36m<cell line: 2>\u001b[1;34m()\u001b[0m\n\u001b[0;32m      1\u001b[0m \u001b[38;5;66;03m# SHOW CORRELATION OF DATA TO THE TARGET COLUMN \u001b[39;00m\n\u001b[1;32m----> 2\u001b[0m features_corr \u001b[38;5;241m=\u001b[39m pd\u001b[38;5;241m.\u001b[39mDataFrame(\u001b[38;5;28mabs\u001b[39m(\u001b[43mdata\u001b[49m\u001b[38;5;241;43m.\u001b[39;49m\u001b[43mcorr\u001b[49m\u001b[43m(\u001b[49m\u001b[43m)\u001b[49m\u001b[43m[\u001b[49m\u001b[38;5;124;43m'\u001b[39;49m\u001b[38;5;124;43mLabel\u001b[39;49m\u001b[38;5;124;43m'\u001b[39;49m\u001b[43m]\u001b[49m)\u001b[38;5;241m.\u001b[39msort_values(ascending \u001b[38;5;241m=\u001b[39m \u001b[38;5;28;01mFalse\u001b[39;00m)) \n\u001b[0;32m      4\u001b[0m features_corr\n",
      "File \u001b[1;32m~\\anaconda3\\lib\\site-packages\\pandas\\core\\frame.py:3505\u001b[0m, in \u001b[0;36mDataFrame.__getitem__\u001b[1;34m(self, key)\u001b[0m\n\u001b[0;32m   3503\u001b[0m \u001b[38;5;28;01mif\u001b[39;00m \u001b[38;5;28mself\u001b[39m\u001b[38;5;241m.\u001b[39mcolumns\u001b[38;5;241m.\u001b[39mnlevels \u001b[38;5;241m>\u001b[39m \u001b[38;5;241m1\u001b[39m:\n\u001b[0;32m   3504\u001b[0m     \u001b[38;5;28;01mreturn\u001b[39;00m \u001b[38;5;28mself\u001b[39m\u001b[38;5;241m.\u001b[39m_getitem_multilevel(key)\n\u001b[1;32m-> 3505\u001b[0m indexer \u001b[38;5;241m=\u001b[39m \u001b[38;5;28;43mself\u001b[39;49m\u001b[38;5;241;43m.\u001b[39;49m\u001b[43mcolumns\u001b[49m\u001b[38;5;241;43m.\u001b[39;49m\u001b[43mget_loc\u001b[49m\u001b[43m(\u001b[49m\u001b[43mkey\u001b[49m\u001b[43m)\u001b[49m\n\u001b[0;32m   3506\u001b[0m \u001b[38;5;28;01mif\u001b[39;00m is_integer(indexer):\n\u001b[0;32m   3507\u001b[0m     indexer \u001b[38;5;241m=\u001b[39m [indexer]\n",
      "File \u001b[1;32m~\\anaconda3\\lib\\site-packages\\pandas\\core\\indexes\\base.py:3623\u001b[0m, in \u001b[0;36mIndex.get_loc\u001b[1;34m(self, key, method, tolerance)\u001b[0m\n\u001b[0;32m   3621\u001b[0m     \u001b[38;5;28;01mreturn\u001b[39;00m \u001b[38;5;28mself\u001b[39m\u001b[38;5;241m.\u001b[39m_engine\u001b[38;5;241m.\u001b[39mget_loc(casted_key)\n\u001b[0;32m   3622\u001b[0m \u001b[38;5;28;01mexcept\u001b[39;00m \u001b[38;5;167;01mKeyError\u001b[39;00m \u001b[38;5;28;01mas\u001b[39;00m err:\n\u001b[1;32m-> 3623\u001b[0m     \u001b[38;5;28;01mraise\u001b[39;00m \u001b[38;5;167;01mKeyError\u001b[39;00m(key) \u001b[38;5;28;01mfrom\u001b[39;00m \u001b[38;5;21;01merr\u001b[39;00m\n\u001b[0;32m   3624\u001b[0m \u001b[38;5;28;01mexcept\u001b[39;00m \u001b[38;5;167;01mTypeError\u001b[39;00m:\n\u001b[0;32m   3625\u001b[0m     \u001b[38;5;66;03m# If we have a listlike key, _check_indexing_error will raise\u001b[39;00m\n\u001b[0;32m   3626\u001b[0m     \u001b[38;5;66;03m#  InvalidIndexError. Otherwise we fall through and re-raise\u001b[39;00m\n\u001b[0;32m   3627\u001b[0m     \u001b[38;5;66;03m#  the TypeError.\u001b[39;00m\n\u001b[0;32m   3628\u001b[0m     \u001b[38;5;28mself\u001b[39m\u001b[38;5;241m.\u001b[39m_check_indexing_error(key)\n",
      "\u001b[1;31mKeyError\u001b[0m: 'Label'"
     ]
    }
   ],
   "source": [
    "# SHOW CORRELATION OF DATA TO THE TARGET COLUMN \n",
    "features_corr = pd.DataFrame(abs(data.corr()['Label']).sort_values(ascending = False)) \n",
    "\n",
    "features_corr "
   ]
  },
  {
   "cell_type": "markdown",
   "metadata": {},
   "source": [
    "### Using Logistic regression"
   ]
  },
  {
   "cell_type": "code",
   "execution_count": 43,
   "metadata": {},
   "outputs": [],
   "source": [
    "from sklearn.linear_model import LogisticRegression\n",
    "from sklearn.model_selection import train_test_split\n",
    "from sklearn.metrics import accuracy_score"
   ]
  },
  {
   "cell_type": "code",
   "execution_count": 44,
   "metadata": {},
   "outputs": [],
   "source": [
    "model = LogisticRegression(random_state=0)\n",
    "X_train,X_test,y_train,y_test=train_test_split(features,target,train_size=0.75,test_size=0.25)"
   ]
  },
  {
   "cell_type": "markdown",
   "metadata": {},
   "source": [
    "### 1st Evaluation Metric:  Accuracy"
   ]
  },
  {
   "cell_type": "code",
   "execution_count": 45,
   "metadata": {},
   "outputs": [
    {
     "name": "stdout",
     "output_type": "stream",
     "text": [
      "0.7341678939617083\n"
     ]
    }
   ],
   "source": [
    "model.fit(X_train,y_train)\n",
    "predictions=model.predict(X_test)\n",
    "score=accuracy_score(y_test,predictions)\n",
    "print(score)"
   ]
  },
  {
   "cell_type": "code",
   "execution_count": 46,
   "metadata": {},
   "outputs": [
    {
     "name": "stdout",
     "output_type": "stream",
     "text": [
      "['13_elevation']\n",
      "0.7341678939617083\n",
      "['13_elevation', '13_slope']\n",
      "0.7341678939617083\n",
      "['13_elevation', '13_slope', '13_lsfactor']\n",
      "0.7341678939617083\n",
      "['13_elevation', '13_slope', '13_lsfactor', 'x0_3']\n",
      "0.7341678939617083\n",
      "['13_elevation', '13_slope', '13_lsfactor', 'x0_3', '13_twi']\n",
      "0.7341678939617083\n",
      "['13_elevation', '13_slope', '13_lsfactor', 'x0_3', '13_twi', 'x0_2']\n",
      "0.7341678939617083\n",
      "['13_elevation', '13_slope', '13_lsfactor', 'x0_3', '13_twi', 'x0_2', '13_aspect']\n",
      "0.7341678939617083\n",
      "['13_elevation', '13_slope', '13_lsfactor', 'x0_3', '13_twi', 'x0_2', '13_aspect', 'x0_5']\n",
      "0.7341678939617083\n",
      "['13_elevation', '13_slope', '13_lsfactor', 'x0_3', '13_twi', 'x0_2', '13_aspect', 'x0_5', 'x0_1']\n",
      "0.7341678939617083\n",
      "['13_elevation', '13_slope', '13_lsfactor', 'x0_3', '13_twi', 'x0_2', '13_aspect', 'x0_5', 'x0_1', '13_sdoif']\n",
      "0.7341678939617083\n",
      "['13_elevation', '13_slope', '13_lsfactor', 'x0_3', '13_twi', 'x0_2', '13_aspect', 'x0_5', 'x0_1', '13_sdoif', '13_placurv']\n",
      "0.7341678939617083\n",
      "['13_elevation', '13_slope', '13_lsfactor', 'x0_3', '13_twi', 'x0_2', '13_aspect', 'x0_5', 'x0_1', '13_sdoif', '13_placurv', 'x0_6']\n",
      "0.7341678939617083\n",
      "['13_elevation', '13_slope', '13_lsfactor', 'x0_3', '13_twi', 'x0_2', '13_aspect', 'x0_5', 'x0_1', '13_sdoif', '13_placurv', 'x0_6', 'x0_7']\n",
      "0.7341678939617083\n",
      "['13_elevation', '13_slope', '13_lsfactor', 'x0_3', '13_twi', 'x0_2', '13_aspect', 'x0_5', 'x0_1', '13_sdoif', '13_placurv', 'x0_6', 'x0_7', 'x0_4']\n",
      "0.7341678939617083\n",
      "['13_elevation', '13_slope', '13_lsfactor', 'x0_3', '13_twi', 'x0_2', '13_aspect', 'x0_5', 'x0_1', '13_sdoif', '13_placurv', 'x0_6', 'x0_7', 'x0_4', '13_procurv']\n",
      "0.7341678939617083\n"
     ]
    }
   ],
   "source": [
    "add_col=[]\n",
    "for column in featureScores.nlargest(20,'Score')['Specs']:\n",
    "    add_col.append(column)\n",
    "    print(add_col)\n",
    "    model.fit(X_train[add_col],y_train)\n",
    "    predictions=model.predict(X_test[add_col])\n",
    "    print(accuracy_score(y_test,predictions))"
   ]
  },
  {
   "cell_type": "markdown",
   "metadata": {},
   "source": [
    "### 2nd Evaluation Metric: Confusion Matrix "
   ]
  },
  {
   "cell_type": "code",
   "execution_count": 47,
   "metadata": {
    "scrolled": true
   },
   "outputs": [
    {
     "data": {
      "image/png": "[encoded data removed]",
      "text/plain": [
       "<Figure size 432x288 with 2 Axes>"
      ]
     },
     "metadata": {},
     "output_type": "display_data"
    }
   ],
   "source": [
    "from sklearn.metrics import confusion_matrix, ConfusionMatrixDisplay\n",
    "\n",
    "#Compute confusion matrix to evaluate the accuracy of a classification.\n",
    "confusion_table = confusion_matrix(y_test, predictions)\n",
    "\n",
    "#Confusion Matrix visualization.\n",
    "cm_display = ConfusionMatrixDisplay(confusion_matrix=confusion_table,\n",
    "                                    display_labels=['No', 'Yes'])\n",
    "#create the plot\n",
    "cm_display.plot()\n",
    "\n",
    "#display the plot\n",
    "plt.show()"
   ]
  },
  {
   "cell_type": "markdown",
   "metadata": {},
   "source": [
    "### 3rd Evaluation Metric: F1 Score"
   ]
  },
  {
   "cell_type": "code",
   "execution_count": 48,
   "metadata": {},
   "outputs": [
    {
     "data": {
      "text/plain": [
       "0.0"
      ]
     },
     "execution_count": 48,
     "metadata": {},
     "output_type": "execute_result"
    }
   ],
   "source": [
    "from sklearn.metrics import f1_score\n",
    "\n",
    "score = f1_score(y_test,predictions)\n",
    "\n",
    "score "
   ]
  },
  {
   "cell_type": "markdown",
   "metadata": {},
   "source": [
    "# Using Random Forest Classification"
   ]
  },
  {
   "cell_type": "code",
   "execution_count": null,
   "metadata": {},
   "outputs": [],
   "source": [
    "#split data into train and test \n",
    "from sklearn.model_selection import train_test_split\n",
    "\n",
    "\n",
    "X_train, X_test, y_train, y_test = train_test_split(features,\n",
    "                                                    target,\n",
    "                                                    test_size=0.20,\n",
    "                                                    random_state=42)"
   ]
  },
  {
   "cell_type": "code",
   "execution_count": null,
   "metadata": {},
   "outputs": [],
   "source": [
    "# train the model \n",
    "from sklearn.ensemble import RandomForestClassifier\n",
    "\n",
    "classifier  = RandomForestClassifier(n_estimators=100)"
   ]
  },
  {
   "cell_type": "code",
   "execution_count": null,
   "metadata": {},
   "outputs": [],
   "source": [
    "#train the model \n",
    "classifier.fit(X_train,y_train)"
   ]
  },
  {
   "cell_type": "code",
   "execution_count": null,
   "metadata": {},
   "outputs": [],
   "source": [
    "# make predicition on test set \n",
    "\n",
    "preds = classifier.predict(X_test)"
   ]
  },
  {
   "cell_type": "markdown",
   "metadata": {},
   "source": [
    "### 1st Evaluation Metric:  Accuracy"
   ]
  },
  {
   "cell_type": "code",
   "execution_count": null,
   "metadata": {},
   "outputs": [],
   "source": [
    "from sklearn.metrics import accuracy_score\n",
    "\n",
    "model_score = accuracy_score(y_test,preds)\n",
    "\n",
    "print(\"{:.2f}%\".format(model_score*100))"
   ]
  },
  {
   "cell_type": "markdown",
   "metadata": {},
   "source": [
    "### 2nd Evaluation Metric: Confusion Matrix "
   ]
  },
  {
   "cell_type": "code",
   "execution_count": null,
   "metadata": {},
   "outputs": [],
   "source": [
    "from sklearn.metrics import confusion_matrix, ConfusionMatrixDisplay\n",
    "\n",
    "#Compute confusion matrix to evaluate the accuracy of a classification.\n",
    "confusion_table = confusion_matrix(y_test, preds)\n",
    "\n",
    "#Confusion Matrix visualization.\n",
    "cm_display = ConfusionMatrixDisplay(confusion_matrix=confusion_table,\n",
    "                                    display_labels=['No', 'Yes'])\n",
    "#create the plot\n",
    "cm_display.plot()\n",
    "\n",
    "#display the plot\n",
    "plt.show()"
   ]
  },
  {
   "cell_type": "markdown",
   "metadata": {},
   "source": [
    "### 3rd Evaluation Metric: F1 Score"
   ]
  },
  {
   "cell_type": "code",
   "execution_count": null,
   "metadata": {},
   "outputs": [],
   "source": [
    "from sklearn.metrics import f1_score\n",
    "\n",
    "score = f1_score(y_test,preds,)\n",
    "\n",
    "score "
   ]
  },
  {
   "cell_type": "markdown",
   "metadata": {},
   "source": [
    "# Using Histogram based Gradient Boost"
   ]
  },
  {
   "cell_type": "code",
   "execution_count": null,
   "metadata": {},
   "outputs": [],
   "source": [
    "#split data into train and test \n",
    "from sklearn.model_selection import train_test_split\n",
    "\n",
    "\n",
    "X_train, X_test, y_train, y_test = train_test_split(features,\n",
    "                                                    target,\n",
    "                                                    test_size=0.20,\n",
    "                                                    stratify=target,\n",
    "                                                    random_state=42)"
   ]
  },
  {
   "cell_type": "code",
   "execution_count": null,
   "metadata": {},
   "outputs": [],
   "source": [
    "from sklearn.ensemble import HistGradientBoostingClassifier\n",
    "\n",
    "classifier  = HistGradientBoostingClassifier()"
   ]
  },
  {
   "cell_type": "code",
   "execution_count": null,
   "metadata": {},
   "outputs": [],
   "source": [
    "#train the model \n",
    "classifier.fit(X_train,y_train)"
   ]
  },
  {
   "cell_type": "code",
   "execution_count": null,
   "metadata": {},
   "outputs": [],
   "source": [
    "# make predicition on test set \n",
    "\n",
    "preds = classifier.predict(X_test)"
   ]
  },
  {
   "cell_type": "markdown",
   "metadata": {},
   "source": [
    "### 1st Evaluation Metric: Accuracy"
   ]
  },
  {
   "cell_type": "code",
   "execution_count": null,
   "metadata": {},
   "outputs": [],
   "source": [
    "from sklearn.metrics import accuracy_score\n",
    "\n",
    "model_score = accuracy_score(y_test,preds)\n",
    "\n",
    "print(\"{:.2f}%\".format(model_score*100))"
   ]
  },
  {
   "cell_type": "markdown",
   "metadata": {},
   "source": [
    "### 2nd Evaluation Metric: F1 Score"
   ]
  },
  {
   "cell_type": "code",
   "execution_count": null,
   "metadata": {},
   "outputs": [],
   "source": [
    "from sklearn.metrics import f1_score\n",
    "score = f1_score(y_test,preds,)\n",
    "\n",
    "score "
   ]
  },
  {
   "cell_type": "markdown",
   "metadata": {},
   "source": [
    "we have seen here the accuracy of the model increased a bit using histogram based gradient boost"
   ]
  },
  {
   "cell_type": "markdown",
   "metadata": {},
   "source": [
    "# Using Voting Classifier"
   ]
  },
  {
   "cell_type": "code",
   "execution_count": null,
   "metadata": {},
   "outputs": [],
   "source": [
    "#split data into train and test \n",
    "from sklearn.model_selection import train_test_split\n",
    "\n",
    "\n",
    "X_train, X_test, y_train, y_test = train_test_split(features,\n",
    "                                                    target,\n",
    "                                                    test_size=0.20,\n",
    "                                                    stratify=target,\n",
    "                                                    random_state=42)"
   ]
  },
  {
   "cell_type": "code",
   "execution_count": null,
   "metadata": {},
   "outputs": [],
   "source": [
    "#importing libraries\n",
    "from sklearn.ensemble import VotingClassifier\n",
    "from sklearn.svm import SVC\n",
    "from sklearn.tree import DecisionTreeClassifier\n",
    "\n",
    "#ensemble/ group of models\n",
    "estimator=[]\n",
    "estimator.append(('LR',LogisticRegression(solver='lbfgs',multi_class='multinomial',max_iter=200)))\n",
    "estimator.append(('SVC',SVC(gamma='auto',probability=True)))\n",
    "estimator.append(('DTC',DecisionTreeClassifier()))\n",
    "\n",
    "# classifier  = VotingClassifier(estimators=estimator, voting='hard')\n",
    "classifier  = VotingClassifier(estimators=estimator, voting='soft')"
   ]
  },
  {
   "cell_type": "code",
   "execution_count": null,
   "metadata": {},
   "outputs": [],
   "source": [
    "#train the model \n",
    "classifier.fit(X_train,y_train)"
   ]
  },
  {
   "cell_type": "code",
   "execution_count": null,
   "metadata": {},
   "outputs": [],
   "source": [
    "# make predicition on test set \n",
    "\n",
    "preds = classifier.predict(X_test)"
   ]
  },
  {
   "cell_type": "markdown",
   "metadata": {},
   "source": [
    "### 1st Evaluation Metric: Accuracy"
   ]
  },
  {
   "cell_type": "code",
   "execution_count": null,
   "metadata": {},
   "outputs": [],
   "source": [
    "from sklearn.metrics import accuracy_score\n",
    "\n",
    "model_score = accuracy_score(y_test,preds)\n",
    "\n",
    "print(\"{:.2f}%\".format(model_score*100))"
   ]
  },
  {
   "cell_type": "markdown",
   "metadata": {},
   "source": [
    "### 2nd Evaluation Metric: F1 Score"
   ]
  },
  {
   "cell_type": "code",
   "execution_count": null,
   "metadata": {},
   "outputs": [],
   "source": [
    "from sklearn.metrics import f1_score\n",
    "\n",
    "score = f1_score(y_test,preds,)\n",
    "\n",
    "score "
   ]
  },
  {
   "cell_type": "markdown",
   "metadata": {},
   "source": [
    "we have seen that the accuracy of the model dropped when using voting classifier"
   ]
  },
  {
   "cell_type": "markdown",
   "metadata": {},
   "source": [
    "## Using Lightgbm"
   ]
  },
  {
   "cell_type": "code",
   "execution_count": null,
   "metadata": {},
   "outputs": [],
   "source": [
    "!pip install lightgbm"
   ]
  },
  {
   "cell_type": "code",
   "execution_count": null,
   "metadata": {},
   "outputs": [],
   "source": [
    "import lightgbm as lgb\n",
    "from lightgbm import LGBMClassifier"
   ]
  },
  {
   "cell_type": "code",
   "execution_count": null,
   "metadata": {},
   "outputs": [],
   "source": [
    "from imblearn import over_sampling\n",
    "from imblearn.over_sampling import SMOTE\n",
    "oversample=SMOTE()\n",
    "X_train,y_train=oversample.fit_resample(X_train,y_train)"
   ]
  },
  {
   "cell_type": "code",
   "execution_count": null,
   "metadata": {},
   "outputs": [],
   "source": [
    "classifier  = LGBMClassifier()\n",
    "\n",
    "#train the model \n",
    "classifier.fit(X_train,y_train)\n",
    "\n",
    "# make predicition on test set \n",
    "\n",
    "preds = classifier.predict(X_test)"
   ]
  },
  {
   "cell_type": "code",
   "execution_count": null,
   "metadata": {},
   "outputs": [],
   "source": [
    "from sklearn.metrics import accuracy_score\n",
    "\n",
    "model_score = accuracy_score(y_test,preds)\n",
    "\n",
    "print(\"{:.2f}%\".format(model_score*100))"
   ]
  },
  {
   "cell_type": "code",
   "execution_count": null,
   "metadata": {},
   "outputs": [],
   "source": [
    "from sklearn.metrics import f1_score\n",
    "\n",
    "score = f1_score(y_test,preds,)\n",
    "\n",
    "score "
   ]
  },
  {
   "cell_type": "markdown",
   "metadata": {},
   "source": [
    "## Using Xgboost"
   ]
  },
  {
   "cell_type": "code",
   "execution_count": null,
   "metadata": {},
   "outputs": [],
   "source": [
    "!pip install xgboost"
   ]
  },
  {
   "cell_type": "code",
   "execution_count": null,
   "metadata": {},
   "outputs": [],
   "source": [
    "import xgboost as xgb\n",
    "from xgboost import XGBClassifier"
   ]
  },
  {
   "cell_type": "code",
   "execution_count": null,
   "metadata": {},
   "outputs": [],
   "source": [
    "from imblearn import over_sampling\n",
    "from imblearn.over_sampling import SMOTE\n",
    "oversample=SMOTE()\n",
    "X_train,y_train=oversample.fit_resample(X_train,y_train)"
   ]
  },
  {
   "cell_type": "code",
   "execution_count": null,
   "metadata": {},
   "outputs": [],
   "source": [
    "classifier  = XGBClassifier()\n",
    "\n",
    "#train the model \n",
    "classifier.fit(X_train,y_train)\n",
    "\n",
    "# make predicition on test set \n",
    "\n",
    "preds = classifier.predict(X_test)"
   ]
  },
  {
   "cell_type": "code",
   "execution_count": null,
   "metadata": {},
   "outputs": [],
   "source": [
    "from sklearn.metrics import accuracy_score\n",
    "\n",
    "model_score = accuracy_score(y_test,preds)\n",
    "\n",
    "print(\"{:.2f}%\".format(model_score*100))"
   ]
  },
  {
   "cell_type": "code",
   "execution_count": null,
   "metadata": {},
   "outputs": [],
   "source": [
    "from sklearn.metrics import f1_score\n",
    "\n",
    "score = f1_score(y_test,preds,)\n",
    "\n",
    "score "
   ]
  },
  {
   "cell_type": "markdown",
   "metadata": {},
   "source": [
    "## Using Catboost"
   ]
  },
  {
   "cell_type": "code",
   "execution_count": null,
   "metadata": {},
   "outputs": [],
   "source": [
    "!pip install catboost"
   ]
  },
  {
   "cell_type": "code",
   "execution_count": 49,
   "metadata": {},
   "outputs": [],
   "source": [
    "import catboost as clf\n",
    "from catboost import CatBoostClassifier"
   ]
  },
  {
   "cell_type": "code",
   "execution_count": 50,
   "metadata": {},
   "outputs": [],
   "source": [
    "from imblearn import over_sampling\n",
    "from imblearn.over_sampling import SMOTE\n",
    "oversample=SMOTE()\n",
    "X_train,y_train=oversample.fit_resample(X_train,y_train)"
   ]
  },
  {
   "cell_type": "code",
   "execution_count": 51,
   "metadata": {},
   "outputs": [
    {
     "name": "stdout",
     "output_type": "stream",
     "text": [
      "Learning rate set to 0.030092\n",
      "0:\tlearn: 0.6717050\ttotal: 223ms\tremaining: 3m 43s\n",
      "1:\tlearn: 0.6525945\ttotal: 251ms\tremaining: 2m 5s\n",
      "2:\tlearn: 0.6363267\ttotal: 285ms\tremaining: 1m 34s\n",
      "3:\tlearn: 0.6215067\ttotal: 323ms\tremaining: 1m 20s\n",
      "4:\tlearn: 0.6087879\ttotal: 365ms\tremaining: 1m 12s\n",
      "5:\tlearn: 0.5970312\ttotal: 409ms\tremaining: 1m 7s\n",
      "6:\tlearn: 0.5864079\ttotal: 459ms\tremaining: 1m 5s\n",
      "7:\tlearn: 0.5750116\ttotal: 497ms\tremaining: 1m 1s\n",
      "8:\tlearn: 0.5640250\ttotal: 529ms\tremaining: 58.3s\n",
      "9:\tlearn: 0.5547984\ttotal: 559ms\tremaining: 55.4s\n",
      "10:\tlearn: 0.5463078\ttotal: 590ms\tremaining: 53s\n",
      "11:\tlearn: 0.5378321\ttotal: 620ms\tremaining: 51s\n",
      "12:\tlearn: 0.5301397\ttotal: 650ms\tremaining: 49.4s\n",
      "13:\tlearn: 0.5238113\ttotal: 687ms\tremaining: 48.4s\n",
      "14:\tlearn: 0.5162261\ttotal: 719ms\tremaining: 47.2s\n",
      "15:\tlearn: 0.5102258\ttotal: 745ms\tremaining: 45.8s\n",
      "16:\tlearn: 0.5043886\ttotal: 770ms\tremaining: 44.5s\n",
      "17:\tlearn: 0.4991841\ttotal: 796ms\tremaining: 43.4s\n",
      "18:\tlearn: 0.4946138\ttotal: 825ms\tremaining: 42.6s\n",
      "19:\tlearn: 0.4893022\ttotal: 851ms\tremaining: 41.7s\n",
      "20:\tlearn: 0.4849316\ttotal: 887ms\tremaining: 41.3s\n",
      "21:\tlearn: 0.4807097\ttotal: 918ms\tremaining: 40.8s\n",
      "22:\tlearn: 0.4767525\ttotal: 947ms\tremaining: 40.2s\n",
      "23:\tlearn: 0.4732415\ttotal: 973ms\tremaining: 39.6s\n",
      "24:\tlearn: 0.4701549\ttotal: 1s\tremaining: 39.1s\n",
      "25:\tlearn: 0.4663710\ttotal: 1.03s\tremaining: 38.6s\n",
      "26:\tlearn: 0.4630693\ttotal: 1.06s\tremaining: 38.2s\n",
      "27:\tlearn: 0.4601900\ttotal: 1.09s\tremaining: 37.7s\n",
      "28:\tlearn: 0.4566508\ttotal: 1.12s\tremaining: 37.6s\n",
      "29:\tlearn: 0.4540095\ttotal: 1.16s\tremaining: 37.4s\n",
      "30:\tlearn: 0.4515688\ttotal: 1.19s\tremaining: 37.3s\n",
      "31:\tlearn: 0.4491665\ttotal: 1.22s\tremaining: 36.8s\n",
      "32:\tlearn: 0.4467886\ttotal: 1.24s\tremaining: 36.4s\n",
      "33:\tlearn: 0.4447138\ttotal: 1.27s\tremaining: 36s\n",
      "34:\tlearn: 0.4425295\ttotal: 1.3s\tremaining: 35.9s\n",
      "35:\tlearn: 0.4404150\ttotal: 1.33s\tremaining: 35.7s\n",
      "36:\tlearn: 0.4373176\ttotal: 1.36s\tremaining: 35.4s\n",
      "37:\tlearn: 0.4345986\ttotal: 1.39s\tremaining: 35.3s\n",
      "38:\tlearn: 0.4328063\ttotal: 1.42s\tremaining: 35s\n",
      "39:\tlearn: 0.4313083\ttotal: 1.45s\tremaining: 34.9s\n",
      "40:\tlearn: 0.4289310\ttotal: 1.48s\tremaining: 34.6s\n",
      "41:\tlearn: 0.4274731\ttotal: 1.5s\tremaining: 34.3s\n",
      "42:\tlearn: 0.4262680\ttotal: 1.53s\tremaining: 34.1s\n",
      "43:\tlearn: 0.4248958\ttotal: 1.56s\tremaining: 34s\n",
      "44:\tlearn: 0.4227093\ttotal: 1.59s\tremaining: 33.8s\n",
      "45:\tlearn: 0.4209727\ttotal: 1.62s\tremaining: 33.6s\n",
      "46:\tlearn: 0.4199339\ttotal: 1.65s\tremaining: 33.4s\n",
      "47:\tlearn: 0.4186181\ttotal: 1.67s\tremaining: 33.2s\n",
      "48:\tlearn: 0.4174705\ttotal: 1.7s\tremaining: 33s\n",
      "49:\tlearn: 0.4158191\ttotal: 1.73s\tremaining: 32.9s\n",
      "50:\tlearn: 0.4144970\ttotal: 1.77s\tremaining: 32.9s\n",
      "51:\tlearn: 0.4135105\ttotal: 1.81s\tremaining: 33.1s\n",
      "52:\tlearn: 0.4121656\ttotal: 1.85s\tremaining: 33.2s\n",
      "53:\tlearn: 0.4109432\ttotal: 1.9s\tremaining: 33.2s\n",
      "54:\tlearn: 0.4098158\ttotal: 1.95s\tremaining: 33.5s\n",
      "55:\tlearn: 0.4087385\ttotal: 2.01s\tremaining: 33.9s\n",
      "56:\tlearn: 0.4078012\ttotal: 2.05s\tremaining: 34s\n",
      "57:\tlearn: 0.4062390\ttotal: 2.09s\tremaining: 34s\n",
      "58:\tlearn: 0.4053909\ttotal: 2.13s\tremaining: 34.1s\n",
      "59:\tlearn: 0.4039372\ttotal: 2.17s\tremaining: 34s\n",
      "60:\tlearn: 0.4031985\ttotal: 2.21s\tremaining: 34s\n",
      "61:\tlearn: 0.4022077\ttotal: 2.26s\tremaining: 34.1s\n",
      "62:\tlearn: 0.4014611\ttotal: 2.29s\tremaining: 34s\n",
      "63:\tlearn: 0.4007110\ttotal: 2.32s\tremaining: 33.9s\n",
      "64:\tlearn: 0.3998508\ttotal: 2.35s\tremaining: 33.8s\n",
      "65:\tlearn: 0.3982948\ttotal: 2.39s\tremaining: 33.8s\n",
      "66:\tlearn: 0.3974686\ttotal: 2.42s\tremaining: 33.8s\n",
      "67:\tlearn: 0.3965772\ttotal: 2.46s\tremaining: 33.7s\n",
      "68:\tlearn: 0.3953867\ttotal: 2.49s\tremaining: 33.6s\n",
      "69:\tlearn: 0.3946477\ttotal: 2.52s\tremaining: 33.5s\n",
      "70:\tlearn: 0.3939543\ttotal: 2.56s\tremaining: 33.5s\n",
      "71:\tlearn: 0.3931288\ttotal: 2.6s\tremaining: 33.5s\n",
      "72:\tlearn: 0.3924095\ttotal: 2.64s\tremaining: 33.5s\n",
      "73:\tlearn: 0.3912859\ttotal: 2.68s\tremaining: 33.6s\n",
      "74:\tlearn: 0.3906431\ttotal: 2.71s\tremaining: 33.4s\n",
      "75:\tlearn: 0.3899247\ttotal: 2.74s\tremaining: 33.4s\n",
      "76:\tlearn: 0.3891793\ttotal: 2.77s\tremaining: 33.2s\n",
      "77:\tlearn: 0.3884674\ttotal: 2.82s\tremaining: 33.4s\n",
      "78:\tlearn: 0.3878316\ttotal: 2.85s\tremaining: 33.3s\n",
      "79:\tlearn: 0.3871821\ttotal: 2.88s\tremaining: 33.2s\n",
      "80:\tlearn: 0.3865452\ttotal: 2.92s\tremaining: 33.1s\n",
      "81:\tlearn: 0.3859227\ttotal: 2.95s\tremaining: 33s\n",
      "82:\tlearn: 0.3854279\ttotal: 2.98s\tremaining: 32.9s\n",
      "83:\tlearn: 0.3847534\ttotal: 3.01s\tremaining: 32.8s\n",
      "84:\tlearn: 0.3840801\ttotal: 3.07s\tremaining: 33s\n",
      "85:\tlearn: 0.3835683\ttotal: 3.1s\tremaining: 33s\n",
      "86:\tlearn: 0.3829885\ttotal: 3.15s\tremaining: 33s\n",
      "87:\tlearn: 0.3823463\ttotal: 3.19s\tremaining: 33s\n",
      "88:\tlearn: 0.3815792\ttotal: 3.22s\tremaining: 33s\n",
      "89:\tlearn: 0.3809526\ttotal: 3.25s\tremaining: 32.9s\n",
      "90:\tlearn: 0.3801633\ttotal: 3.3s\tremaining: 33s\n",
      "91:\tlearn: 0.3798037\ttotal: 3.34s\tremaining: 32.9s\n",
      "92:\tlearn: 0.3792845\ttotal: 3.37s\tremaining: 32.8s\n",
      "93:\tlearn: 0.3787903\ttotal: 3.41s\tremaining: 32.9s\n",
      "94:\tlearn: 0.3780202\ttotal: 3.45s\tremaining: 32.8s\n",
      "95:\tlearn: 0.3775650\ttotal: 3.48s\tremaining: 32.7s\n",
      "96:\tlearn: 0.3771096\ttotal: 3.51s\tremaining: 32.6s\n",
      "97:\tlearn: 0.3764221\ttotal: 3.57s\tremaining: 32.8s\n",
      "98:\tlearn: 0.3755758\ttotal: 3.61s\tremaining: 32.9s\n",
      "99:\tlearn: 0.3748291\ttotal: 3.65s\tremaining: 32.9s\n",
      "100:\tlearn: 0.3742361\ttotal: 3.7s\tremaining: 32.9s\n",
      "101:\tlearn: 0.3737793\ttotal: 3.73s\tremaining: 32.8s\n",
      "102:\tlearn: 0.3733973\ttotal: 3.77s\tremaining: 32.8s\n",
      "103:\tlearn: 0.3728900\ttotal: 3.8s\tremaining: 32.7s\n",
      "104:\tlearn: 0.3723902\ttotal: 3.84s\tremaining: 32.7s\n",
      "105:\tlearn: 0.3719206\ttotal: 3.87s\tremaining: 32.6s\n",
      "106:\tlearn: 0.3714037\ttotal: 3.9s\tremaining: 32.5s\n",
      "107:\tlearn: 0.3709164\ttotal: 3.93s\tremaining: 32.5s\n",
      "108:\tlearn: 0.3700362\ttotal: 3.97s\tremaining: 32.5s\n",
      "109:\tlearn: 0.3694977\ttotal: 4.01s\tremaining: 32.5s\n",
      "110:\tlearn: 0.3690489\ttotal: 4.06s\tremaining: 32.5s\n",
      "111:\tlearn: 0.3685438\ttotal: 4.1s\tremaining: 32.5s\n",
      "112:\tlearn: 0.3679992\ttotal: 4.14s\tremaining: 32.5s\n",
      "113:\tlearn: 0.3677119\ttotal: 4.2s\tremaining: 32.6s\n",
      "114:\tlearn: 0.3672333\ttotal: 4.23s\tremaining: 32.6s\n",
      "115:\tlearn: 0.3667620\ttotal: 4.26s\tremaining: 32.5s\n",
      "116:\tlearn: 0.3664680\ttotal: 4.29s\tremaining: 32.4s\n",
      "117:\tlearn: 0.3660110\ttotal: 4.32s\tremaining: 32.3s\n",
      "118:\tlearn: 0.3656686\ttotal: 4.34s\tremaining: 32.2s\n",
      "119:\tlearn: 0.3650541\ttotal: 4.37s\tremaining: 32s\n",
      "120:\tlearn: 0.3645189\ttotal: 4.4s\tremaining: 31.9s\n",
      "121:\tlearn: 0.3638222\ttotal: 4.43s\tremaining: 31.9s\n",
      "122:\tlearn: 0.3635158\ttotal: 4.46s\tremaining: 31.8s\n",
      "123:\tlearn: 0.3628739\ttotal: 4.49s\tremaining: 31.7s\n",
      "124:\tlearn: 0.3625539\ttotal: 4.51s\tremaining: 31.6s\n",
      "125:\tlearn: 0.3619008\ttotal: 4.54s\tremaining: 31.5s\n",
      "126:\tlearn: 0.3615113\ttotal: 4.57s\tremaining: 31.4s\n",
      "127:\tlearn: 0.3610376\ttotal: 4.59s\tremaining: 31.3s\n",
      "128:\tlearn: 0.3606860\ttotal: 4.63s\tremaining: 31.3s\n",
      "129:\tlearn: 0.3602106\ttotal: 4.69s\tremaining: 31.4s\n",
      "130:\tlearn: 0.3597616\ttotal: 4.72s\tremaining: 31.3s\n",
      "131:\tlearn: 0.3593421\ttotal: 4.77s\tremaining: 31.4s\n",
      "132:\tlearn: 0.3587813\ttotal: 4.81s\tremaining: 31.4s\n",
      "133:\tlearn: 0.3584514\ttotal: 4.86s\tremaining: 31.4s\n",
      "134:\tlearn: 0.3580959\ttotal: 4.92s\tremaining: 31.5s\n",
      "135:\tlearn: 0.3577774\ttotal: 4.96s\tremaining: 31.5s\n",
      "136:\tlearn: 0.3573361\ttotal: 5.01s\tremaining: 31.5s\n",
      "137:\tlearn: 0.3571196\ttotal: 5.05s\tremaining: 31.6s\n",
      "138:\tlearn: 0.3568363\ttotal: 5.1s\tremaining: 31.6s\n",
      "139:\tlearn: 0.3564516\ttotal: 5.15s\tremaining: 31.7s\n",
      "140:\tlearn: 0.3560661\ttotal: 5.2s\tremaining: 31.7s\n",
      "141:\tlearn: 0.3556321\ttotal: 5.24s\tremaining: 31.6s\n",
      "142:\tlearn: 0.3553527\ttotal: 5.29s\tremaining: 31.7s\n",
      "143:\tlearn: 0.3549776\ttotal: 5.34s\tremaining: 31.7s\n",
      "144:\tlearn: 0.3545943\ttotal: 5.4s\tremaining: 31.8s\n",
      "145:\tlearn: 0.3542089\ttotal: 5.44s\tremaining: 31.8s\n",
      "146:\tlearn: 0.3539326\ttotal: 5.48s\tremaining: 31.8s\n",
      "147:\tlearn: 0.3532393\ttotal: 5.54s\tremaining: 31.9s\n",
      "148:\tlearn: 0.3529140\ttotal: 5.58s\tremaining: 31.9s\n",
      "149:\tlearn: 0.3525659\ttotal: 5.64s\tremaining: 32s\n",
      "150:\tlearn: 0.3522988\ttotal: 5.67s\tremaining: 31.9s\n",
      "151:\tlearn: 0.3519510\ttotal: 5.69s\tremaining: 31.8s\n",
      "152:\tlearn: 0.3516215\ttotal: 5.72s\tremaining: 31.7s\n",
      "153:\tlearn: 0.3510330\ttotal: 5.75s\tremaining: 31.6s\n",
      "154:\tlearn: 0.3508268\ttotal: 5.78s\tremaining: 31.5s\n",
      "155:\tlearn: 0.3505008\ttotal: 5.81s\tremaining: 31.4s\n",
      "156:\tlearn: 0.3500156\ttotal: 5.83s\tremaining: 31.3s\n",
      "157:\tlearn: 0.3496879\ttotal: 5.86s\tremaining: 31.2s\n",
      "158:\tlearn: 0.3490788\ttotal: 5.89s\tremaining: 31.1s\n",
      "159:\tlearn: 0.3488395\ttotal: 5.91s\tremaining: 31s\n",
      "160:\tlearn: 0.3483424\ttotal: 5.94s\tremaining: 30.9s\n"
     ]
    },
    {
     "name": "stdout",
     "output_type": "stream",
     "text": [
      "161:\tlearn: 0.3480588\ttotal: 5.97s\tremaining: 30.9s\n",
      "162:\tlearn: 0.3476918\ttotal: 6s\tremaining: 30.8s\n",
      "163:\tlearn: 0.3473411\ttotal: 6.02s\tremaining: 30.7s\n",
      "164:\tlearn: 0.3470091\ttotal: 6.05s\tremaining: 30.6s\n",
      "165:\tlearn: 0.3466799\ttotal: 6.08s\tremaining: 30.5s\n",
      "166:\tlearn: 0.3464356\ttotal: 6.1s\tremaining: 30.4s\n",
      "167:\tlearn: 0.3460493\ttotal: 6.13s\tremaining: 30.4s\n",
      "168:\tlearn: 0.3458108\ttotal: 6.16s\tremaining: 30.3s\n",
      "169:\tlearn: 0.3455245\ttotal: 6.21s\tremaining: 30.3s\n",
      "170:\tlearn: 0.3451806\ttotal: 6.25s\tremaining: 30.3s\n",
      "171:\tlearn: 0.3446803\ttotal: 6.28s\tremaining: 30.3s\n",
      "172:\tlearn: 0.3444937\ttotal: 6.33s\tremaining: 30.2s\n",
      "173:\tlearn: 0.3441680\ttotal: 6.37s\tremaining: 30.2s\n",
      "174:\tlearn: 0.3438119\ttotal: 6.42s\tremaining: 30.3s\n",
      "175:\tlearn: 0.3435564\ttotal: 6.46s\tremaining: 30.2s\n",
      "176:\tlearn: 0.3432081\ttotal: 6.49s\tremaining: 30.2s\n",
      "177:\tlearn: 0.3430486\ttotal: 6.51s\tremaining: 30.1s\n",
      "178:\tlearn: 0.3428440\ttotal: 6.54s\tremaining: 30s\n",
      "179:\tlearn: 0.3426830\ttotal: 6.56s\tremaining: 29.9s\n",
      "180:\tlearn: 0.3424586\ttotal: 6.6s\tremaining: 29.9s\n",
      "181:\tlearn: 0.3422249\ttotal: 6.63s\tremaining: 29.8s\n",
      "182:\tlearn: 0.3420975\ttotal: 6.65s\tremaining: 29.7s\n",
      "183:\tlearn: 0.3417665\ttotal: 6.67s\tremaining: 29.6s\n",
      "184:\tlearn: 0.3414815\ttotal: 6.7s\tremaining: 29.5s\n",
      "185:\tlearn: 0.3412387\ttotal: 6.73s\tremaining: 29.4s\n",
      "186:\tlearn: 0.3409589\ttotal: 6.75s\tremaining: 29.4s\n",
      "187:\tlearn: 0.3404563\ttotal: 6.79s\tremaining: 29.3s\n",
      "188:\tlearn: 0.3402053\ttotal: 6.82s\tremaining: 29.3s\n",
      "189:\tlearn: 0.3400220\ttotal: 6.85s\tremaining: 29.2s\n",
      "190:\tlearn: 0.3398002\ttotal: 6.88s\tremaining: 29.1s\n",
      "191:\tlearn: 0.3394959\ttotal: 6.91s\tremaining: 29.1s\n",
      "192:\tlearn: 0.3391919\ttotal: 6.95s\tremaining: 29s\n",
      "193:\tlearn: 0.3389540\ttotal: 6.98s\tremaining: 29s\n",
      "194:\tlearn: 0.3387291\ttotal: 7.02s\tremaining: 29s\n",
      "195:\tlearn: 0.3385082\ttotal: 7.05s\tremaining: 28.9s\n",
      "196:\tlearn: 0.3382363\ttotal: 7.08s\tremaining: 28.9s\n",
      "197:\tlearn: 0.3379731\ttotal: 7.13s\tremaining: 28.9s\n",
      "198:\tlearn: 0.3377124\ttotal: 7.15s\tremaining: 28.8s\n",
      "199:\tlearn: 0.3373514\ttotal: 7.18s\tremaining: 28.7s\n",
      "200:\tlearn: 0.3369017\ttotal: 7.21s\tremaining: 28.6s\n",
      "201:\tlearn: 0.3366005\ttotal: 7.24s\tremaining: 28.6s\n",
      "202:\tlearn: 0.3362584\ttotal: 7.27s\tremaining: 28.5s\n",
      "203:\tlearn: 0.3358895\ttotal: 7.29s\tremaining: 28.5s\n",
      "204:\tlearn: 0.3357036\ttotal: 7.32s\tremaining: 28.4s\n",
      "205:\tlearn: 0.3354243\ttotal: 7.34s\tremaining: 28.3s\n",
      "206:\tlearn: 0.3351607\ttotal: 7.37s\tremaining: 28.2s\n",
      "207:\tlearn: 0.3347690\ttotal: 7.39s\tremaining: 28.2s\n",
      "208:\tlearn: 0.3345460\ttotal: 7.42s\tremaining: 28.1s\n",
      "209:\tlearn: 0.3343413\ttotal: 7.45s\tremaining: 28s\n",
      "210:\tlearn: 0.3340966\ttotal: 7.48s\tremaining: 28s\n",
      "211:\tlearn: 0.3337811\ttotal: 7.51s\tremaining: 27.9s\n",
      "212:\tlearn: 0.3335739\ttotal: 7.54s\tremaining: 27.8s\n",
      "213:\tlearn: 0.3332724\ttotal: 7.56s\tremaining: 27.8s\n",
      "214:\tlearn: 0.3329606\ttotal: 7.59s\tremaining: 27.7s\n",
      "215:\tlearn: 0.3327601\ttotal: 7.62s\tremaining: 27.6s\n",
      "216:\tlearn: 0.3326242\ttotal: 7.64s\tremaining: 27.6s\n",
      "217:\tlearn: 0.3323642\ttotal: 7.67s\tremaining: 27.5s\n",
      "218:\tlearn: 0.3321391\ttotal: 7.71s\tremaining: 27.5s\n",
      "219:\tlearn: 0.3319046\ttotal: 7.74s\tremaining: 27.4s\n",
      "220:\tlearn: 0.3317345\ttotal: 7.77s\tremaining: 27.4s\n",
      "221:\tlearn: 0.3315392\ttotal: 7.79s\tremaining: 27.3s\n",
      "222:\tlearn: 0.3311805\ttotal: 7.82s\tremaining: 27.2s\n",
      "223:\tlearn: 0.3307690\ttotal: 7.84s\tremaining: 27.2s\n",
      "224:\tlearn: 0.3304526\ttotal: 7.87s\tremaining: 27.1s\n",
      "225:\tlearn: 0.3301781\ttotal: 7.9s\tremaining: 27.1s\n",
      "226:\tlearn: 0.3300290\ttotal: 7.93s\tremaining: 27s\n",
      "227:\tlearn: 0.3297759\ttotal: 7.96s\tremaining: 26.9s\n",
      "228:\tlearn: 0.3295436\ttotal: 7.98s\tremaining: 26.9s\n",
      "229:\tlearn: 0.3293788\ttotal: 8.01s\tremaining: 26.8s\n",
      "230:\tlearn: 0.3289456\ttotal: 8.04s\tremaining: 26.8s\n",
      "231:\tlearn: 0.3287547\ttotal: 8.06s\tremaining: 26.7s\n",
      "232:\tlearn: 0.3285288\ttotal: 8.09s\tremaining: 26.6s\n",
      "233:\tlearn: 0.3282359\ttotal: 8.12s\tremaining: 26.6s\n",
      "234:\tlearn: 0.3279717\ttotal: 8.15s\tremaining: 26.5s\n",
      "235:\tlearn: 0.3278113\ttotal: 8.19s\tremaining: 26.5s\n",
      "236:\tlearn: 0.3275217\ttotal: 8.21s\tremaining: 26.4s\n",
      "237:\tlearn: 0.3273483\ttotal: 8.24s\tremaining: 26.4s\n",
      "238:\tlearn: 0.3270437\ttotal: 8.26s\tremaining: 26.3s\n",
      "239:\tlearn: 0.3268315\ttotal: 8.29s\tremaining: 26.2s\n",
      "240:\tlearn: 0.3266800\ttotal: 8.32s\tremaining: 26.2s\n",
      "241:\tlearn: 0.3262174\ttotal: 8.35s\tremaining: 26.1s\n",
      "242:\tlearn: 0.3259539\ttotal: 8.38s\tremaining: 26.1s\n",
      "243:\tlearn: 0.3257720\ttotal: 8.4s\tremaining: 26s\n",
      "244:\tlearn: 0.3255427\ttotal: 8.43s\tremaining: 26s\n",
      "245:\tlearn: 0.3253229\ttotal: 8.45s\tremaining: 25.9s\n",
      "246:\tlearn: 0.3248841\ttotal: 8.48s\tremaining: 25.8s\n",
      "247:\tlearn: 0.3246007\ttotal: 8.51s\tremaining: 25.8s\n",
      "248:\tlearn: 0.3244342\ttotal: 8.54s\tremaining: 25.8s\n",
      "249:\tlearn: 0.3242115\ttotal: 8.57s\tremaining: 25.7s\n",
      "250:\tlearn: 0.3239193\ttotal: 8.59s\tremaining: 25.6s\n",
      "251:\tlearn: 0.3235589\ttotal: 8.62s\tremaining: 25.6s\n",
      "252:\tlearn: 0.3233047\ttotal: 8.65s\tremaining: 25.5s\n",
      "253:\tlearn: 0.3230658\ttotal: 8.67s\tremaining: 25.5s\n",
      "254:\tlearn: 0.3228087\ttotal: 8.7s\tremaining: 25.4s\n",
      "255:\tlearn: 0.3225248\ttotal: 8.73s\tremaining: 25.4s\n",
      "256:\tlearn: 0.3223552\ttotal: 8.76s\tremaining: 25.3s\n",
      "257:\tlearn: 0.3220953\ttotal: 8.79s\tremaining: 25.3s\n",
      "258:\tlearn: 0.3219193\ttotal: 8.82s\tremaining: 25.2s\n",
      "259:\tlearn: 0.3216902\ttotal: 8.84s\tremaining: 25.2s\n",
      "260:\tlearn: 0.3213522\ttotal: 8.87s\tremaining: 25.1s\n",
      "261:\tlearn: 0.3210944\ttotal: 8.89s\tremaining: 25.1s\n",
      "262:\tlearn: 0.3209604\ttotal: 8.92s\tremaining: 25s\n",
      "263:\tlearn: 0.3205903\ttotal: 8.95s\tremaining: 25s\n",
      "264:\tlearn: 0.3203371\ttotal: 8.98s\tremaining: 24.9s\n",
      "265:\tlearn: 0.3201211\ttotal: 9s\tremaining: 24.8s\n",
      "266:\tlearn: 0.3199169\ttotal: 9.03s\tremaining: 24.8s\n",
      "267:\tlearn: 0.3197448\ttotal: 9.06s\tremaining: 24.7s\n",
      "268:\tlearn: 0.3194919\ttotal: 9.08s\tremaining: 24.7s\n",
      "269:\tlearn: 0.3193167\ttotal: 9.11s\tremaining: 24.6s\n",
      "270:\tlearn: 0.3191569\ttotal: 9.13s\tremaining: 24.6s\n",
      "271:\tlearn: 0.3189641\ttotal: 9.16s\tremaining: 24.5s\n",
      "272:\tlearn: 0.3187495\ttotal: 9.19s\tremaining: 24.5s\n",
      "273:\tlearn: 0.3185479\ttotal: 9.22s\tremaining: 24.4s\n",
      "274:\tlearn: 0.3183334\ttotal: 9.25s\tremaining: 24.4s\n",
      "275:\tlearn: 0.3181005\ttotal: 9.28s\tremaining: 24.3s\n",
      "276:\tlearn: 0.3178678\ttotal: 9.3s\tremaining: 24.3s\n",
      "277:\tlearn: 0.3176367\ttotal: 9.32s\tremaining: 24.2s\n",
      "278:\tlearn: 0.3174395\ttotal: 9.35s\tremaining: 24.2s\n",
      "279:\tlearn: 0.3172100\ttotal: 9.39s\tremaining: 24.1s\n",
      "280:\tlearn: 0.3166792\ttotal: 9.41s\tremaining: 24.1s\n",
      "281:\tlearn: 0.3165058\ttotal: 9.44s\tremaining: 24s\n",
      "282:\tlearn: 0.3162721\ttotal: 9.46s\tremaining: 24s\n",
      "283:\tlearn: 0.3160924\ttotal: 9.49s\tremaining: 23.9s\n",
      "284:\tlearn: 0.3158363\ttotal: 9.51s\tremaining: 23.9s\n",
      "285:\tlearn: 0.3155575\ttotal: 9.54s\tremaining: 23.8s\n",
      "286:\tlearn: 0.3154030\ttotal: 9.56s\tremaining: 23.8s\n",
      "287:\tlearn: 0.3152622\ttotal: 9.59s\tremaining: 23.7s\n",
      "288:\tlearn: 0.3150103\ttotal: 9.63s\tremaining: 23.7s\n",
      "289:\tlearn: 0.3147214\ttotal: 9.65s\tremaining: 23.6s\n",
      "290:\tlearn: 0.3145386\ttotal: 9.68s\tremaining: 23.6s\n",
      "291:\tlearn: 0.3143353\ttotal: 9.7s\tremaining: 23.5s\n",
      "292:\tlearn: 0.3141423\ttotal: 9.73s\tremaining: 23.5s\n",
      "293:\tlearn: 0.3138710\ttotal: 9.76s\tremaining: 23.4s\n",
      "294:\tlearn: 0.3136676\ttotal: 9.79s\tremaining: 23.4s\n",
      "295:\tlearn: 0.3134942\ttotal: 9.82s\tremaining: 23.3s\n",
      "296:\tlearn: 0.3133726\ttotal: 9.85s\tremaining: 23.3s\n",
      "297:\tlearn: 0.3131070\ttotal: 9.88s\tremaining: 23.3s\n",
      "298:\tlearn: 0.3128768\ttotal: 9.9s\tremaining: 23.2s\n",
      "299:\tlearn: 0.3124530\ttotal: 9.93s\tremaining: 23.2s\n",
      "300:\tlearn: 0.3121948\ttotal: 9.95s\tremaining: 23.1s\n",
      "301:\tlearn: 0.3119783\ttotal: 9.98s\tremaining: 23.1s\n",
      "302:\tlearn: 0.3118171\ttotal: 10s\tremaining: 23s\n",
      "303:\tlearn: 0.3115378\ttotal: 10s\tremaining: 23s\n",
      "304:\tlearn: 0.3112477\ttotal: 10.1s\tremaining: 22.9s\n",
      "305:\tlearn: 0.3110627\ttotal: 10.1s\tremaining: 22.9s\n",
      "306:\tlearn: 0.3108923\ttotal: 10.1s\tremaining: 22.8s\n",
      "307:\tlearn: 0.3106747\ttotal: 10.2s\tremaining: 22.8s\n",
      "308:\tlearn: 0.3104727\ttotal: 10.2s\tremaining: 22.8s\n",
      "309:\tlearn: 0.3102939\ttotal: 10.2s\tremaining: 22.7s\n",
      "310:\tlearn: 0.3101494\ttotal: 10.2s\tremaining: 22.7s\n",
      "311:\tlearn: 0.3099703\ttotal: 10.3s\tremaining: 22.6s\n",
      "312:\tlearn: 0.3097551\ttotal: 10.3s\tremaining: 22.6s\n",
      "313:\tlearn: 0.3095803\ttotal: 10.3s\tremaining: 22.6s\n",
      "314:\tlearn: 0.3092640\ttotal: 10.3s\tremaining: 22.5s\n",
      "315:\tlearn: 0.3090065\ttotal: 10.4s\tremaining: 22.5s\n",
      "316:\tlearn: 0.3088085\ttotal: 10.4s\tremaining: 22.4s\n",
      "317:\tlearn: 0.3086682\ttotal: 10.4s\tremaining: 22.4s\n",
      "318:\tlearn: 0.3083901\ttotal: 10.5s\tremaining: 22.3s\n",
      "319:\tlearn: 0.3082476\ttotal: 10.5s\tremaining: 22.3s\n",
      "320:\tlearn: 0.3080387\ttotal: 10.5s\tremaining: 22.2s\n",
      "321:\tlearn: 0.3078114\ttotal: 10.5s\tremaining: 22.2s\n",
      "322:\tlearn: 0.3076761\ttotal: 10.6s\tremaining: 22.1s\n",
      "323:\tlearn: 0.3075073\ttotal: 10.6s\tremaining: 22.1s\n",
      "324:\tlearn: 0.3073372\ttotal: 10.6s\tremaining: 22s\n"
     ]
    },
    {
     "name": "stdout",
     "output_type": "stream",
     "text": [
      "325:\tlearn: 0.3071502\ttotal: 10.6s\tremaining: 22s\n",
      "326:\tlearn: 0.3069123\ttotal: 10.7s\tremaining: 22s\n",
      "327:\tlearn: 0.3064771\ttotal: 10.7s\tremaining: 21.9s\n",
      "328:\tlearn: 0.3062045\ttotal: 10.7s\tremaining: 21.9s\n",
      "329:\tlearn: 0.3060397\ttotal: 10.8s\tremaining: 21.8s\n",
      "330:\tlearn: 0.3057597\ttotal: 10.8s\tremaining: 21.8s\n",
      "331:\tlearn: 0.3055980\ttotal: 10.8s\tremaining: 21.8s\n",
      "332:\tlearn: 0.3054005\ttotal: 10.8s\tremaining: 21.7s\n",
      "333:\tlearn: 0.3052121\ttotal: 10.9s\tremaining: 21.7s\n",
      "334:\tlearn: 0.3049935\ttotal: 10.9s\tremaining: 21.6s\n",
      "335:\tlearn: 0.3042111\ttotal: 10.9s\tremaining: 21.6s\n",
      "336:\tlearn: 0.3037527\ttotal: 10.9s\tremaining: 21.5s\n",
      "337:\tlearn: 0.3035194\ttotal: 11s\tremaining: 21.5s\n",
      "338:\tlearn: 0.3033065\ttotal: 11s\tremaining: 21.5s\n",
      "339:\tlearn: 0.3030543\ttotal: 11s\tremaining: 21.4s\n",
      "340:\tlearn: 0.3027711\ttotal: 11.1s\tremaining: 21.4s\n",
      "341:\tlearn: 0.3025879\ttotal: 11.1s\tremaining: 21.3s\n",
      "342:\tlearn: 0.3023897\ttotal: 11.1s\tremaining: 21.3s\n",
      "343:\tlearn: 0.3022228\ttotal: 11.1s\tremaining: 21.2s\n",
      "344:\tlearn: 0.3020201\ttotal: 11.2s\tremaining: 21.2s\n",
      "345:\tlearn: 0.3017921\ttotal: 11.2s\tremaining: 21.2s\n",
      "346:\tlearn: 0.3015491\ttotal: 11.2s\tremaining: 21.1s\n",
      "347:\tlearn: 0.3013228\ttotal: 11.2s\tremaining: 21.1s\n",
      "348:\tlearn: 0.3010807\ttotal: 11.3s\tremaining: 21s\n",
      "349:\tlearn: 0.3008920\ttotal: 11.3s\tremaining: 21s\n",
      "350:\tlearn: 0.3006691\ttotal: 11.3s\tremaining: 20.9s\n",
      "351:\tlearn: 0.3003913\ttotal: 11.4s\tremaining: 20.9s\n",
      "352:\tlearn: 0.3001238\ttotal: 11.4s\tremaining: 20.9s\n",
      "353:\tlearn: 0.2998801\ttotal: 11.4s\tremaining: 20.8s\n",
      "354:\tlearn: 0.2997243\ttotal: 11.4s\tremaining: 20.8s\n",
      "355:\tlearn: 0.2995135\ttotal: 11.5s\tremaining: 20.7s\n",
      "356:\tlearn: 0.2991335\ttotal: 11.5s\tremaining: 20.7s\n",
      "357:\tlearn: 0.2988858\ttotal: 11.5s\tremaining: 20.7s\n",
      "358:\tlearn: 0.2985769\ttotal: 11.5s\tremaining: 20.6s\n",
      "359:\tlearn: 0.2984016\ttotal: 11.6s\tremaining: 20.6s\n",
      "360:\tlearn: 0.2981709\ttotal: 11.6s\tremaining: 20.5s\n",
      "361:\tlearn: 0.2979646\ttotal: 11.6s\tremaining: 20.5s\n",
      "362:\tlearn: 0.2978048\ttotal: 11.6s\tremaining: 20.4s\n",
      "363:\tlearn: 0.2975073\ttotal: 11.7s\tremaining: 20.4s\n",
      "364:\tlearn: 0.2973389\ttotal: 11.7s\tremaining: 20.4s\n",
      "365:\tlearn: 0.2971702\ttotal: 11.7s\tremaining: 20.3s\n",
      "366:\tlearn: 0.2967028\ttotal: 11.8s\tremaining: 20.3s\n",
      "367:\tlearn: 0.2963453\ttotal: 11.8s\tremaining: 20.2s\n",
      "368:\tlearn: 0.2961388\ttotal: 11.8s\tremaining: 20.2s\n",
      "369:\tlearn: 0.2958190\ttotal: 11.8s\tremaining: 20.2s\n",
      "370:\tlearn: 0.2956548\ttotal: 11.9s\tremaining: 20.1s\n",
      "371:\tlearn: 0.2953971\ttotal: 11.9s\tremaining: 20.1s\n",
      "372:\tlearn: 0.2952083\ttotal: 11.9s\tremaining: 20s\n",
      "373:\tlearn: 0.2950177\ttotal: 11.9s\tremaining: 20s\n",
      "374:\tlearn: 0.2946049\ttotal: 12s\tremaining: 19.9s\n",
      "375:\tlearn: 0.2943752\ttotal: 12s\tremaining: 19.9s\n",
      "376:\tlearn: 0.2941967\ttotal: 12s\tremaining: 19.9s\n",
      "377:\tlearn: 0.2940365\ttotal: 12s\tremaining: 19.8s\n",
      "378:\tlearn: 0.2937873\ttotal: 12.1s\tremaining: 19.8s\n",
      "379:\tlearn: 0.2935688\ttotal: 12.1s\tremaining: 19.7s\n",
      "380:\tlearn: 0.2933064\ttotal: 12.1s\tremaining: 19.7s\n",
      "381:\tlearn: 0.2931253\ttotal: 12.2s\tremaining: 19.7s\n",
      "382:\tlearn: 0.2929766\ttotal: 12.2s\tremaining: 19.6s\n",
      "383:\tlearn: 0.2927918\ttotal: 12.2s\tremaining: 19.6s\n",
      "384:\tlearn: 0.2925854\ttotal: 12.2s\tremaining: 19.6s\n",
      "385:\tlearn: 0.2923916\ttotal: 12.3s\tremaining: 19.5s\n",
      "386:\tlearn: 0.2921689\ttotal: 12.3s\tremaining: 19.5s\n",
      "387:\tlearn: 0.2919266\ttotal: 12.3s\tremaining: 19.4s\n",
      "388:\tlearn: 0.2916879\ttotal: 12.3s\tremaining: 19.4s\n",
      "389:\tlearn: 0.2915366\ttotal: 12.4s\tremaining: 19.4s\n",
      "390:\tlearn: 0.2912227\ttotal: 12.4s\tremaining: 19.3s\n",
      "391:\tlearn: 0.2910207\ttotal: 12.4s\tremaining: 19.3s\n",
      "392:\tlearn: 0.2908190\ttotal: 12.4s\tremaining: 19.2s\n",
      "393:\tlearn: 0.2904388\ttotal: 12.5s\tremaining: 19.2s\n",
      "394:\tlearn: 0.2902682\ttotal: 12.5s\tremaining: 19.1s\n",
      "395:\tlearn: 0.2900589\ttotal: 12.5s\tremaining: 19.1s\n",
      "396:\tlearn: 0.2898725\ttotal: 12.6s\tremaining: 19.1s\n",
      "397:\tlearn: 0.2896609\ttotal: 12.6s\tremaining: 19s\n",
      "398:\tlearn: 0.2890853\ttotal: 12.6s\tremaining: 19s\n",
      "399:\tlearn: 0.2888712\ttotal: 12.6s\tremaining: 19s\n",
      "400:\tlearn: 0.2886883\ttotal: 12.7s\tremaining: 18.9s\n",
      "401:\tlearn: 0.2885720\ttotal: 12.7s\tremaining: 18.9s\n",
      "402:\tlearn: 0.2883555\ttotal: 12.7s\tremaining: 18.8s\n",
      "403:\tlearn: 0.2881158\ttotal: 12.7s\tremaining: 18.8s\n",
      "404:\tlearn: 0.2878700\ttotal: 12.8s\tremaining: 18.8s\n",
      "405:\tlearn: 0.2876891\ttotal: 12.8s\tremaining: 18.7s\n",
      "406:\tlearn: 0.2875042\ttotal: 12.8s\tremaining: 18.7s\n",
      "407:\tlearn: 0.2871898\ttotal: 12.9s\tremaining: 18.6s\n",
      "408:\tlearn: 0.2868115\ttotal: 12.9s\tremaining: 18.6s\n",
      "409:\tlearn: 0.2866514\ttotal: 12.9s\tremaining: 18.6s\n",
      "410:\tlearn: 0.2865176\ttotal: 13s\tremaining: 18.6s\n",
      "411:\tlearn: 0.2863494\ttotal: 13s\tremaining: 18.5s\n",
      "412:\tlearn: 0.2861591\ttotal: 13s\tremaining: 18.5s\n",
      "413:\tlearn: 0.2859502\ttotal: 13s\tremaining: 18.5s\n",
      "414:\tlearn: 0.2857082\ttotal: 13.1s\tremaining: 18.4s\n",
      "415:\tlearn: 0.2855092\ttotal: 13.1s\tremaining: 18.4s\n",
      "416:\tlearn: 0.2852034\ttotal: 13.1s\tremaining: 18.4s\n",
      "417:\tlearn: 0.2850030\ttotal: 13.2s\tremaining: 18.3s\n",
      "418:\tlearn: 0.2847399\ttotal: 13.2s\tremaining: 18.3s\n",
      "419:\tlearn: 0.2844981\ttotal: 13.2s\tremaining: 18.3s\n",
      "420:\tlearn: 0.2843128\ttotal: 13.3s\tremaining: 18.2s\n",
      "421:\tlearn: 0.2840719\ttotal: 13.3s\tremaining: 18.2s\n",
      "422:\tlearn: 0.2838354\ttotal: 13.3s\tremaining: 18.2s\n",
      "423:\tlearn: 0.2837057\ttotal: 13.4s\tremaining: 18.2s\n",
      "424:\tlearn: 0.2835334\ttotal: 13.4s\tremaining: 18.1s\n",
      "425:\tlearn: 0.2833539\ttotal: 13.4s\tremaining: 18.1s\n",
      "426:\tlearn: 0.2832033\ttotal: 13.5s\tremaining: 18.1s\n",
      "427:\tlearn: 0.2830011\ttotal: 13.5s\tremaining: 18s\n",
      "428:\tlearn: 0.2827431\ttotal: 13.5s\tremaining: 18s\n",
      "429:\tlearn: 0.2825828\ttotal: 13.5s\tremaining: 17.9s\n",
      "430:\tlearn: 0.2823814\ttotal: 13.6s\tremaining: 17.9s\n",
      "431:\tlearn: 0.2821213\ttotal: 13.6s\tremaining: 17.9s\n",
      "432:\tlearn: 0.2819435\ttotal: 13.6s\tremaining: 17.8s\n",
      "433:\tlearn: 0.2817016\ttotal: 13.6s\tremaining: 17.8s\n",
      "434:\tlearn: 0.2814732\ttotal: 13.7s\tremaining: 17.7s\n",
      "435:\tlearn: 0.2813366\ttotal: 13.7s\tremaining: 17.7s\n",
      "436:\tlearn: 0.2808440\ttotal: 13.7s\tremaining: 17.7s\n",
      "437:\tlearn: 0.2805945\ttotal: 13.7s\tremaining: 17.6s\n",
      "438:\tlearn: 0.2803204\ttotal: 13.8s\tremaining: 17.6s\n",
      "439:\tlearn: 0.2800853\ttotal: 13.8s\tremaining: 17.6s\n",
      "440:\tlearn: 0.2799746\ttotal: 13.8s\tremaining: 17.5s\n",
      "441:\tlearn: 0.2798094\ttotal: 13.8s\tremaining: 17.5s\n",
      "442:\tlearn: 0.2796696\ttotal: 13.9s\tremaining: 17.4s\n",
      "443:\tlearn: 0.2795144\ttotal: 13.9s\tremaining: 17.4s\n",
      "444:\tlearn: 0.2793417\ttotal: 13.9s\tremaining: 17.4s\n",
      "445:\tlearn: 0.2790632\ttotal: 14s\tremaining: 17.3s\n",
      "446:\tlearn: 0.2789050\ttotal: 14s\tremaining: 17.3s\n",
      "447:\tlearn: 0.2786909\ttotal: 14s\tremaining: 17.3s\n",
      "448:\tlearn: 0.2785434\ttotal: 14s\tremaining: 17.2s\n",
      "449:\tlearn: 0.2783546\ttotal: 14.1s\tremaining: 17.2s\n",
      "450:\tlearn: 0.2782136\ttotal: 14.1s\tremaining: 17.1s\n",
      "451:\tlearn: 0.2780293\ttotal: 14.1s\tremaining: 17.1s\n",
      "452:\tlearn: 0.2779005\ttotal: 14.1s\tremaining: 17.1s\n",
      "453:\tlearn: 0.2776053\ttotal: 14.2s\tremaining: 17s\n",
      "454:\tlearn: 0.2773986\ttotal: 14.2s\tremaining: 17s\n",
      "455:\tlearn: 0.2769591\ttotal: 14.2s\tremaining: 17s\n",
      "456:\tlearn: 0.2767429\ttotal: 14.3s\tremaining: 16.9s\n",
      "457:\tlearn: 0.2765303\ttotal: 14.3s\tremaining: 16.9s\n",
      "458:\tlearn: 0.2763819\ttotal: 14.3s\tremaining: 16.9s\n",
      "459:\tlearn: 0.2761704\ttotal: 14.3s\tremaining: 16.8s\n",
      "460:\tlearn: 0.2759960\ttotal: 14.4s\tremaining: 16.8s\n",
      "461:\tlearn: 0.2756864\ttotal: 14.4s\tremaining: 16.7s\n",
      "462:\tlearn: 0.2753847\ttotal: 14.4s\tremaining: 16.7s\n",
      "463:\tlearn: 0.2752122\ttotal: 14.4s\tremaining: 16.7s\n",
      "464:\tlearn: 0.2750508\ttotal: 14.5s\tremaining: 16.6s\n",
      "465:\tlearn: 0.2749005\ttotal: 14.5s\tremaining: 16.6s\n",
      "466:\tlearn: 0.2747322\ttotal: 14.5s\tremaining: 16.6s\n",
      "467:\tlearn: 0.2745666\ttotal: 14.5s\tremaining: 16.5s\n",
      "468:\tlearn: 0.2743842\ttotal: 14.6s\tremaining: 16.5s\n",
      "469:\tlearn: 0.2742276\ttotal: 14.6s\tremaining: 16.5s\n",
      "470:\tlearn: 0.2740870\ttotal: 14.6s\tremaining: 16.4s\n",
      "471:\tlearn: 0.2737356\ttotal: 14.6s\tremaining: 16.4s\n",
      "472:\tlearn: 0.2735605\ttotal: 14.7s\tremaining: 16.4s\n",
      "473:\tlearn: 0.2734453\ttotal: 14.7s\tremaining: 16.3s\n",
      "474:\tlearn: 0.2732497\ttotal: 14.7s\tremaining: 16.3s\n",
      "475:\tlearn: 0.2730947\ttotal: 14.8s\tremaining: 16.2s\n",
      "476:\tlearn: 0.2729139\ttotal: 14.8s\tremaining: 16.2s\n",
      "477:\tlearn: 0.2727263\ttotal: 14.8s\tremaining: 16.2s\n",
      "478:\tlearn: 0.2725613\ttotal: 14.8s\tremaining: 16.1s\n",
      "479:\tlearn: 0.2723042\ttotal: 14.9s\tremaining: 16.1s\n",
      "480:\tlearn: 0.2721240\ttotal: 14.9s\tremaining: 16.1s\n",
      "481:\tlearn: 0.2719702\ttotal: 14.9s\tremaining: 16.1s\n",
      "482:\tlearn: 0.2718225\ttotal: 15s\tremaining: 16s\n",
      "483:\tlearn: 0.2715887\ttotal: 15s\tremaining: 16s\n",
      "484:\tlearn: 0.2714066\ttotal: 15s\tremaining: 15.9s\n"
     ]
    },
    {
     "name": "stdout",
     "output_type": "stream",
     "text": [
      "485:\tlearn: 0.2712764\ttotal: 15s\tremaining: 15.9s\n",
      "486:\tlearn: 0.2710200\ttotal: 15.1s\tremaining: 15.9s\n",
      "487:\tlearn: 0.2708783\ttotal: 15.1s\tremaining: 15.8s\n",
      "488:\tlearn: 0.2706831\ttotal: 15.1s\tremaining: 15.8s\n",
      "489:\tlearn: 0.2705510\ttotal: 15.2s\tremaining: 15.8s\n",
      "490:\tlearn: 0.2704176\ttotal: 15.2s\tremaining: 15.7s\n",
      "491:\tlearn: 0.2702860\ttotal: 15.2s\tremaining: 15.7s\n",
      "492:\tlearn: 0.2701125\ttotal: 15.2s\tremaining: 15.7s\n",
      "493:\tlearn: 0.2699757\ttotal: 15.3s\tremaining: 15.6s\n",
      "494:\tlearn: 0.2697441\ttotal: 15.3s\tremaining: 15.6s\n",
      "495:\tlearn: 0.2695688\ttotal: 15.3s\tremaining: 15.6s\n",
      "496:\tlearn: 0.2693578\ttotal: 15.3s\tremaining: 15.5s\n",
      "497:\tlearn: 0.2692050\ttotal: 15.4s\tremaining: 15.5s\n",
      "498:\tlearn: 0.2689769\ttotal: 15.4s\tremaining: 15.5s\n",
      "499:\tlearn: 0.2687651\ttotal: 15.4s\tremaining: 15.4s\n",
      "500:\tlearn: 0.2686068\ttotal: 15.4s\tremaining: 15.4s\n",
      "501:\tlearn: 0.2684693\ttotal: 15.5s\tremaining: 15.3s\n",
      "502:\tlearn: 0.2683108\ttotal: 15.5s\tremaining: 15.3s\n",
      "503:\tlearn: 0.2680996\ttotal: 15.5s\tremaining: 15.3s\n",
      "504:\tlearn: 0.2679453\ttotal: 15.6s\tremaining: 15.2s\n",
      "505:\tlearn: 0.2678167\ttotal: 15.6s\tremaining: 15.2s\n",
      "506:\tlearn: 0.2674750\ttotal: 15.6s\tremaining: 15.2s\n",
      "507:\tlearn: 0.2673162\ttotal: 15.6s\tremaining: 15.1s\n",
      "508:\tlearn: 0.2671523\ttotal: 15.7s\tremaining: 15.1s\n",
      "509:\tlearn: 0.2669868\ttotal: 15.7s\tremaining: 15.1s\n",
      "510:\tlearn: 0.2668306\ttotal: 15.7s\tremaining: 15s\n",
      "511:\tlearn: 0.2666412\ttotal: 15.7s\tremaining: 15s\n",
      "512:\tlearn: 0.2665129\ttotal: 15.8s\tremaining: 15s\n",
      "513:\tlearn: 0.2664165\ttotal: 15.8s\tremaining: 14.9s\n",
      "514:\tlearn: 0.2662916\ttotal: 15.8s\tremaining: 14.9s\n",
      "515:\tlearn: 0.2661228\ttotal: 15.9s\tremaining: 14.9s\n",
      "516:\tlearn: 0.2659857\ttotal: 15.9s\tremaining: 14.9s\n",
      "517:\tlearn: 0.2658580\ttotal: 15.9s\tremaining: 14.8s\n",
      "518:\tlearn: 0.2657181\ttotal: 16s\tremaining: 14.8s\n",
      "519:\tlearn: 0.2655568\ttotal: 16s\tremaining: 14.8s\n",
      "520:\tlearn: 0.2653956\ttotal: 16s\tremaining: 14.7s\n",
      "521:\tlearn: 0.2652798\ttotal: 16s\tremaining: 14.7s\n",
      "522:\tlearn: 0.2650259\ttotal: 16.1s\tremaining: 14.6s\n",
      "523:\tlearn: 0.2647065\ttotal: 16.1s\tremaining: 14.6s\n",
      "524:\tlearn: 0.2640680\ttotal: 16.1s\tremaining: 14.6s\n",
      "525:\tlearn: 0.2639082\ttotal: 16.1s\tremaining: 14.5s\n",
      "526:\tlearn: 0.2638033\ttotal: 16.2s\tremaining: 14.5s\n",
      "527:\tlearn: 0.2636529\ttotal: 16.2s\tremaining: 14.5s\n",
      "528:\tlearn: 0.2634677\ttotal: 16.2s\tremaining: 14.4s\n",
      "529:\tlearn: 0.2633324\ttotal: 16.2s\tremaining: 14.4s\n",
      "530:\tlearn: 0.2631679\ttotal: 16.3s\tremaining: 14.4s\n",
      "531:\tlearn: 0.2629995\ttotal: 16.3s\tremaining: 14.3s\n",
      "532:\tlearn: 0.2628476\ttotal: 16.3s\tremaining: 14.3s\n",
      "533:\tlearn: 0.2626775\ttotal: 16.4s\tremaining: 14.3s\n",
      "534:\tlearn: 0.2625236\ttotal: 16.4s\tremaining: 14.2s\n",
      "535:\tlearn: 0.2624078\ttotal: 16.4s\tremaining: 14.2s\n",
      "536:\tlearn: 0.2620636\ttotal: 16.4s\tremaining: 14.2s\n",
      "537:\tlearn: 0.2619046\ttotal: 16.5s\tremaining: 14.1s\n",
      "538:\tlearn: 0.2617356\ttotal: 16.5s\tremaining: 14.1s\n",
      "539:\tlearn: 0.2611688\ttotal: 16.5s\tremaining: 14.1s\n",
      "540:\tlearn: 0.2609358\ttotal: 16.5s\tremaining: 14s\n",
      "541:\tlearn: 0.2604304\ttotal: 16.6s\tremaining: 14s\n",
      "542:\tlearn: 0.2599209\ttotal: 16.6s\tremaining: 14s\n",
      "543:\tlearn: 0.2596772\ttotal: 16.6s\tremaining: 13.9s\n",
      "544:\tlearn: 0.2595420\ttotal: 16.6s\tremaining: 13.9s\n",
      "545:\tlearn: 0.2593298\ttotal: 16.7s\tremaining: 13.9s\n",
      "546:\tlearn: 0.2592133\ttotal: 16.7s\tremaining: 13.8s\n",
      "547:\tlearn: 0.2590960\ttotal: 16.7s\tremaining: 13.8s\n",
      "548:\tlearn: 0.2589228\ttotal: 16.8s\tremaining: 13.8s\n",
      "549:\tlearn: 0.2587563\ttotal: 16.8s\tremaining: 13.7s\n",
      "550:\tlearn: 0.2584680\ttotal: 16.8s\tremaining: 13.7s\n",
      "551:\tlearn: 0.2582630\ttotal: 16.8s\tremaining: 13.7s\n",
      "552:\tlearn: 0.2581561\ttotal: 16.9s\tremaining: 13.6s\n",
      "553:\tlearn: 0.2580310\ttotal: 16.9s\tremaining: 13.6s\n",
      "554:\tlearn: 0.2578639\ttotal: 16.9s\tremaining: 13.6s\n",
      "555:\tlearn: 0.2577683\ttotal: 16.9s\tremaining: 13.5s\n",
      "556:\tlearn: 0.2574880\ttotal: 17s\tremaining: 13.5s\n",
      "557:\tlearn: 0.2573012\ttotal: 17s\tremaining: 13.5s\n",
      "558:\tlearn: 0.2571890\ttotal: 17s\tremaining: 13.4s\n",
      "559:\tlearn: 0.2569944\ttotal: 17s\tremaining: 13.4s\n",
      "560:\tlearn: 0.2568358\ttotal: 17.1s\tremaining: 13.4s\n",
      "561:\tlearn: 0.2565731\ttotal: 17.1s\tremaining: 13.3s\n",
      "562:\tlearn: 0.2564060\ttotal: 17.1s\tremaining: 13.3s\n",
      "563:\tlearn: 0.2561813\ttotal: 17.1s\tremaining: 13.3s\n",
      "564:\tlearn: 0.2558685\ttotal: 17.2s\tremaining: 13.2s\n",
      "565:\tlearn: 0.2555853\ttotal: 17.2s\tremaining: 13.2s\n",
      "566:\tlearn: 0.2554770\ttotal: 17.2s\tremaining: 13.2s\n",
      "567:\tlearn: 0.2552226\ttotal: 17.3s\tremaining: 13.1s\n",
      "568:\tlearn: 0.2550468\ttotal: 17.3s\tremaining: 13.1s\n",
      "569:\tlearn: 0.2548773\ttotal: 17.3s\tremaining: 13.1s\n",
      "570:\tlearn: 0.2547516\ttotal: 17.3s\tremaining: 13s\n",
      "571:\tlearn: 0.2544945\ttotal: 17.4s\tremaining: 13s\n",
      "572:\tlearn: 0.2542640\ttotal: 17.4s\tremaining: 13s\n",
      "573:\tlearn: 0.2541339\ttotal: 17.4s\tremaining: 12.9s\n",
      "574:\tlearn: 0.2539439\ttotal: 17.4s\tremaining: 12.9s\n",
      "575:\tlearn: 0.2536850\ttotal: 17.5s\tremaining: 12.9s\n",
      "576:\tlearn: 0.2536012\ttotal: 17.5s\tremaining: 12.8s\n",
      "577:\tlearn: 0.2534135\ttotal: 17.5s\tremaining: 12.8s\n",
      "578:\tlearn: 0.2532351\ttotal: 17.5s\tremaining: 12.8s\n",
      "579:\tlearn: 0.2530357\ttotal: 17.6s\tremaining: 12.7s\n",
      "580:\tlearn: 0.2529434\ttotal: 17.6s\tremaining: 12.7s\n",
      "581:\tlearn: 0.2527811\ttotal: 17.6s\tremaining: 12.7s\n",
      "582:\tlearn: 0.2525949\ttotal: 17.7s\tremaining: 12.6s\n",
      "583:\tlearn: 0.2521108\ttotal: 17.7s\tremaining: 12.6s\n",
      "584:\tlearn: 0.2519281\ttotal: 17.7s\tremaining: 12.6s\n",
      "585:\tlearn: 0.2516072\ttotal: 17.7s\tremaining: 12.5s\n",
      "586:\tlearn: 0.2514710\ttotal: 17.8s\tremaining: 12.5s\n",
      "587:\tlearn: 0.2512458\ttotal: 17.8s\tremaining: 12.5s\n",
      "588:\tlearn: 0.2510856\ttotal: 17.8s\tremaining: 12.4s\n",
      "589:\tlearn: 0.2508956\ttotal: 17.8s\tremaining: 12.4s\n",
      "590:\tlearn: 0.2507704\ttotal: 17.9s\tremaining: 12.4s\n",
      "591:\tlearn: 0.2506131\ttotal: 17.9s\tremaining: 12.3s\n",
      "592:\tlearn: 0.2505183\ttotal: 17.9s\tremaining: 12.3s\n",
      "593:\tlearn: 0.2503523\ttotal: 18s\tremaining: 12.3s\n",
      "594:\tlearn: 0.2502452\ttotal: 18s\tremaining: 12.2s\n",
      "595:\tlearn: 0.2501698\ttotal: 18s\tremaining: 12.2s\n",
      "596:\tlearn: 0.2500209\ttotal: 18s\tremaining: 12.2s\n",
      "597:\tlearn: 0.2498579\ttotal: 18.1s\tremaining: 12.1s\n",
      "598:\tlearn: 0.2497698\ttotal: 18.1s\tremaining: 12.1s\n",
      "599:\tlearn: 0.2496624\ttotal: 18.1s\tremaining: 12.1s\n",
      "600:\tlearn: 0.2495603\ttotal: 18.1s\tremaining: 12s\n",
      "601:\tlearn: 0.2494278\ttotal: 18.2s\tremaining: 12s\n",
      "602:\tlearn: 0.2492501\ttotal: 18.2s\tremaining: 12s\n",
      "603:\tlearn: 0.2491136\ttotal: 18.2s\tremaining: 11.9s\n",
      "604:\tlearn: 0.2489908\ttotal: 18.3s\tremaining: 11.9s\n",
      "605:\tlearn: 0.2487956\ttotal: 18.3s\tremaining: 11.9s\n",
      "606:\tlearn: 0.2486818\ttotal: 18.3s\tremaining: 11.9s\n",
      "607:\tlearn: 0.2485183\ttotal: 18.3s\tremaining: 11.8s\n",
      "608:\tlearn: 0.2483845\ttotal: 18.4s\tremaining: 11.8s\n",
      "609:\tlearn: 0.2481894\ttotal: 18.4s\tremaining: 11.8s\n",
      "610:\tlearn: 0.2480456\ttotal: 18.4s\tremaining: 11.7s\n",
      "611:\tlearn: 0.2478693\ttotal: 18.4s\tremaining: 11.7s\n",
      "612:\tlearn: 0.2477319\ttotal: 18.5s\tremaining: 11.7s\n",
      "613:\tlearn: 0.2476245\ttotal: 18.5s\tremaining: 11.6s\n",
      "614:\tlearn: 0.2475084\ttotal: 18.5s\tremaining: 11.6s\n",
      "615:\tlearn: 0.2473770\ttotal: 18.6s\tremaining: 11.6s\n",
      "616:\tlearn: 0.2471704\ttotal: 18.6s\tremaining: 11.5s\n",
      "617:\tlearn: 0.2469740\ttotal: 18.6s\tremaining: 11.5s\n",
      "618:\tlearn: 0.2467689\ttotal: 18.6s\tremaining: 11.5s\n",
      "619:\tlearn: 0.2466269\ttotal: 18.7s\tremaining: 11.4s\n",
      "620:\tlearn: 0.2465357\ttotal: 18.7s\tremaining: 11.4s\n",
      "621:\tlearn: 0.2463212\ttotal: 18.7s\tremaining: 11.4s\n",
      "622:\tlearn: 0.2462225\ttotal: 18.7s\tremaining: 11.3s\n",
      "623:\tlearn: 0.2460756\ttotal: 18.8s\tremaining: 11.3s\n",
      "624:\tlearn: 0.2459531\ttotal: 18.8s\tremaining: 11.3s\n",
      "625:\tlearn: 0.2458184\ttotal: 18.8s\tremaining: 11.2s\n",
      "626:\tlearn: 0.2456833\ttotal: 18.8s\tremaining: 11.2s\n",
      "627:\tlearn: 0.2454750\ttotal: 18.9s\tremaining: 11.2s\n",
      "628:\tlearn: 0.2453084\ttotal: 18.9s\tremaining: 11.1s\n",
      "629:\tlearn: 0.2451597\ttotal: 18.9s\tremaining: 11.1s\n",
      "630:\tlearn: 0.2450709\ttotal: 19s\tremaining: 11.1s\n",
      "631:\tlearn: 0.2448625\ttotal: 19s\tremaining: 11.1s\n",
      "632:\tlearn: 0.2447481\ttotal: 19s\tremaining: 11s\n",
      "633:\tlearn: 0.2446407\ttotal: 19s\tremaining: 11s\n",
      "634:\tlearn: 0.2445658\ttotal: 19.1s\tremaining: 11s\n",
      "635:\tlearn: 0.2444541\ttotal: 19.1s\tremaining: 10.9s\n",
      "636:\tlearn: 0.2442915\ttotal: 19.1s\tremaining: 10.9s\n",
      "637:\tlearn: 0.2441165\ttotal: 19.1s\tremaining: 10.9s\n",
      "638:\tlearn: 0.2440021\ttotal: 19.2s\tremaining: 10.8s\n",
      "639:\tlearn: 0.2438915\ttotal: 19.2s\tremaining: 10.8s\n",
      "640:\tlearn: 0.2436904\ttotal: 19.2s\tremaining: 10.8s\n",
      "641:\tlearn: 0.2435862\ttotal: 19.2s\tremaining: 10.7s\n",
      "642:\tlearn: 0.2434280\ttotal: 19.3s\tremaining: 10.7s\n",
      "643:\tlearn: 0.2432701\ttotal: 19.3s\tremaining: 10.7s\n",
      "644:\tlearn: 0.2431238\ttotal: 19.3s\tremaining: 10.6s\n",
      "645:\tlearn: 0.2430188\ttotal: 19.4s\tremaining: 10.6s\n",
      "646:\tlearn: 0.2427742\ttotal: 19.4s\tremaining: 10.6s\n",
      "647:\tlearn: 0.2426196\ttotal: 19.4s\tremaining: 10.5s\n",
      "648:\tlearn: 0.2424467\ttotal: 19.4s\tremaining: 10.5s\n",
      "649:\tlearn: 0.2423161\ttotal: 19.5s\tremaining: 10.5s\n",
      "650:\tlearn: 0.2421900\ttotal: 19.5s\tremaining: 10.5s\n"
     ]
    },
    {
     "name": "stdout",
     "output_type": "stream",
     "text": [
      "651:\tlearn: 0.2420703\ttotal: 19.5s\tremaining: 10.4s\n",
      "652:\tlearn: 0.2419515\ttotal: 19.6s\tremaining: 10.4s\n",
      "653:\tlearn: 0.2418344\ttotal: 19.6s\tremaining: 10.4s\n",
      "654:\tlearn: 0.2414255\ttotal: 19.6s\tremaining: 10.3s\n",
      "655:\tlearn: 0.2412785\ttotal: 19.6s\tremaining: 10.3s\n",
      "656:\tlearn: 0.2411286\ttotal: 19.7s\tremaining: 10.3s\n",
      "657:\tlearn: 0.2410282\ttotal: 19.7s\tremaining: 10.2s\n",
      "658:\tlearn: 0.2409111\ttotal: 19.7s\tremaining: 10.2s\n",
      "659:\tlearn: 0.2407913\ttotal: 19.8s\tremaining: 10.2s\n",
      "660:\tlearn: 0.2406673\ttotal: 19.8s\tremaining: 10.1s\n",
      "661:\tlearn: 0.2405504\ttotal: 19.8s\tremaining: 10.1s\n",
      "662:\tlearn: 0.2403606\ttotal: 19.8s\tremaining: 10.1s\n",
      "663:\tlearn: 0.2402030\ttotal: 19.9s\tremaining: 10.1s\n",
      "664:\tlearn: 0.2400731\ttotal: 19.9s\tremaining: 10s\n",
      "665:\tlearn: 0.2399705\ttotal: 19.9s\tremaining: 9.99s\n",
      "666:\tlearn: 0.2398509\ttotal: 20s\tremaining: 9.96s\n",
      "667:\tlearn: 0.2397090\ttotal: 20s\tremaining: 9.93s\n",
      "668:\tlearn: 0.2394797\ttotal: 20s\tremaining: 9.9s\n",
      "669:\tlearn: 0.2393802\ttotal: 20s\tremaining: 9.86s\n",
      "670:\tlearn: 0.2392424\ttotal: 20.1s\tremaining: 9.83s\n",
      "671:\tlearn: 0.2391349\ttotal: 20.1s\tremaining: 9.8s\n",
      "672:\tlearn: 0.2389887\ttotal: 20.1s\tremaining: 9.77s\n",
      "673:\tlearn: 0.2389065\ttotal: 20.1s\tremaining: 9.73s\n",
      "674:\tlearn: 0.2388050\ttotal: 20.2s\tremaining: 9.71s\n",
      "675:\tlearn: 0.2386805\ttotal: 20.2s\tremaining: 9.68s\n",
      "676:\tlearn: 0.2385379\ttotal: 20.2s\tremaining: 9.64s\n",
      "677:\tlearn: 0.2384143\ttotal: 20.2s\tremaining: 9.61s\n",
      "678:\tlearn: 0.2382981\ttotal: 20.3s\tremaining: 9.58s\n",
      "679:\tlearn: 0.2381724\ttotal: 20.3s\tremaining: 9.55s\n",
      "680:\tlearn: 0.2380665\ttotal: 20.3s\tremaining: 9.52s\n",
      "681:\tlearn: 0.2379570\ttotal: 20.3s\tremaining: 9.48s\n",
      "682:\tlearn: 0.2378107\ttotal: 20.4s\tremaining: 9.45s\n",
      "683:\tlearn: 0.2376270\ttotal: 20.4s\tremaining: 9.42s\n",
      "684:\tlearn: 0.2375255\ttotal: 20.4s\tremaining: 9.39s\n",
      "685:\tlearn: 0.2374030\ttotal: 20.4s\tremaining: 9.36s\n",
      "686:\tlearn: 0.2373116\ttotal: 20.5s\tremaining: 9.33s\n",
      "687:\tlearn: 0.2371923\ttotal: 20.5s\tremaining: 9.3s\n",
      "688:\tlearn: 0.2370919\ttotal: 20.5s\tremaining: 9.27s\n",
      "689:\tlearn: 0.2369716\ttotal: 20.6s\tremaining: 9.23s\n",
      "690:\tlearn: 0.2368121\ttotal: 20.6s\tremaining: 9.2s\n",
      "691:\tlearn: 0.2366860\ttotal: 20.6s\tremaining: 9.18s\n",
      "692:\tlearn: 0.2365717\ttotal: 20.6s\tremaining: 9.14s\n",
      "693:\tlearn: 0.2364674\ttotal: 20.7s\tremaining: 9.11s\n",
      "694:\tlearn: 0.2363966\ttotal: 20.7s\tremaining: 9.08s\n",
      "695:\tlearn: 0.2362746\ttotal: 20.7s\tremaining: 9.05s\n",
      "696:\tlearn: 0.2361679\ttotal: 20.7s\tremaining: 9.02s\n",
      "697:\tlearn: 0.2360234\ttotal: 20.8s\tremaining: 8.98s\n",
      "698:\tlearn: 0.2358926\ttotal: 20.8s\tremaining: 8.96s\n",
      "699:\tlearn: 0.2357229\ttotal: 20.8s\tremaining: 8.93s\n",
      "700:\tlearn: 0.2355972\ttotal: 20.9s\tremaining: 8.9s\n",
      "701:\tlearn: 0.2354724\ttotal: 20.9s\tremaining: 8.87s\n",
      "702:\tlearn: 0.2352995\ttotal: 20.9s\tremaining: 8.83s\n",
      "703:\tlearn: 0.2351316\ttotal: 20.9s\tremaining: 8.8s\n",
      "704:\tlearn: 0.2350528\ttotal: 21s\tremaining: 8.77s\n",
      "705:\tlearn: 0.2349439\ttotal: 21s\tremaining: 8.74s\n",
      "706:\tlearn: 0.2348215\ttotal: 21s\tremaining: 8.71s\n",
      "707:\tlearn: 0.2347278\ttotal: 21s\tremaining: 8.68s\n",
      "708:\tlearn: 0.2346004\ttotal: 21.1s\tremaining: 8.65s\n",
      "709:\tlearn: 0.2344856\ttotal: 21.1s\tremaining: 8.62s\n",
      "710:\tlearn: 0.2344077\ttotal: 21.1s\tremaining: 8.59s\n",
      "711:\tlearn: 0.2343235\ttotal: 21.2s\tremaining: 8.56s\n",
      "712:\tlearn: 0.2341823\ttotal: 21.2s\tremaining: 8.53s\n",
      "713:\tlearn: 0.2340330\ttotal: 21.2s\tremaining: 8.49s\n",
      "714:\tlearn: 0.2338769\ttotal: 21.2s\tremaining: 8.47s\n",
      "715:\tlearn: 0.2337411\ttotal: 21.3s\tremaining: 8.44s\n",
      "716:\tlearn: 0.2336425\ttotal: 21.3s\tremaining: 8.4s\n",
      "717:\tlearn: 0.2335181\ttotal: 21.3s\tremaining: 8.37s\n",
      "718:\tlearn: 0.2334178\ttotal: 21.3s\tremaining: 8.34s\n",
      "719:\tlearn: 0.2332299\ttotal: 21.4s\tremaining: 8.31s\n",
      "720:\tlearn: 0.2331086\ttotal: 21.4s\tremaining: 8.28s\n",
      "721:\tlearn: 0.2329975\ttotal: 21.4s\tremaining: 8.25s\n",
      "722:\tlearn: 0.2328427\ttotal: 21.5s\tremaining: 8.22s\n",
      "723:\tlearn: 0.2327471\ttotal: 21.5s\tremaining: 8.19s\n",
      "724:\tlearn: 0.2325630\ttotal: 21.5s\tremaining: 8.16s\n",
      "725:\tlearn: 0.2324624\ttotal: 21.5s\tremaining: 8.13s\n",
      "726:\tlearn: 0.2323293\ttotal: 21.6s\tremaining: 8.1s\n",
      "727:\tlearn: 0.2322446\ttotal: 21.6s\tremaining: 8.07s\n",
      "728:\tlearn: 0.2321401\ttotal: 21.6s\tremaining: 8.04s\n",
      "729:\tlearn: 0.2320461\ttotal: 21.6s\tremaining: 8.01s\n",
      "730:\tlearn: 0.2319375\ttotal: 21.7s\tremaining: 7.98s\n",
      "731:\tlearn: 0.2318468\ttotal: 21.7s\tremaining: 7.95s\n",
      "732:\tlearn: 0.2317456\ttotal: 21.7s\tremaining: 7.92s\n",
      "733:\tlearn: 0.2315868\ttotal: 21.8s\tremaining: 7.88s\n",
      "734:\tlearn: 0.2314383\ttotal: 21.8s\tremaining: 7.85s\n",
      "735:\tlearn: 0.2313280\ttotal: 21.8s\tremaining: 7.82s\n",
      "736:\tlearn: 0.2312192\ttotal: 21.8s\tremaining: 7.79s\n",
      "737:\tlearn: 0.2311428\ttotal: 21.9s\tremaining: 7.76s\n",
      "738:\tlearn: 0.2310177\ttotal: 21.9s\tremaining: 7.73s\n",
      "739:\tlearn: 0.2308805\ttotal: 21.9s\tremaining: 7.7s\n",
      "740:\tlearn: 0.2307795\ttotal: 22s\tremaining: 7.67s\n",
      "741:\tlearn: 0.2306798\ttotal: 22s\tremaining: 7.64s\n",
      "742:\tlearn: 0.2306016\ttotal: 22s\tremaining: 7.61s\n",
      "743:\tlearn: 0.2304977\ttotal: 22s\tremaining: 7.58s\n",
      "744:\tlearn: 0.2303924\ttotal: 22.1s\tremaining: 7.55s\n",
      "745:\tlearn: 0.2302676\ttotal: 22.1s\tremaining: 7.52s\n",
      "746:\tlearn: 0.2301210\ttotal: 22.1s\tremaining: 7.49s\n",
      "747:\tlearn: 0.2300206\ttotal: 22.1s\tremaining: 7.46s\n",
      "748:\tlearn: 0.2298518\ttotal: 22.2s\tremaining: 7.43s\n",
      "749:\tlearn: 0.2297566\ttotal: 22.2s\tremaining: 7.4s\n",
      "750:\tlearn: 0.2295934\ttotal: 22.2s\tremaining: 7.37s\n",
      "751:\tlearn: 0.2294938\ttotal: 22.2s\tremaining: 7.34s\n",
      "752:\tlearn: 0.2293244\ttotal: 22.3s\tremaining: 7.3s\n",
      "753:\tlearn: 0.2291466\ttotal: 22.3s\tremaining: 7.28s\n",
      "754:\tlearn: 0.2290426\ttotal: 22.3s\tremaining: 7.25s\n",
      "755:\tlearn: 0.2289312\ttotal: 22.4s\tremaining: 7.22s\n",
      "756:\tlearn: 0.2288372\ttotal: 22.4s\tremaining: 7.18s\n",
      "757:\tlearn: 0.2287291\ttotal: 22.4s\tremaining: 7.16s\n",
      "758:\tlearn: 0.2285673\ttotal: 22.4s\tremaining: 7.12s\n",
      "759:\tlearn: 0.2284830\ttotal: 22.5s\tremaining: 7.09s\n",
      "760:\tlearn: 0.2283904\ttotal: 22.5s\tremaining: 7.06s\n",
      "761:\tlearn: 0.2281789\ttotal: 22.5s\tremaining: 7.04s\n",
      "762:\tlearn: 0.2281074\ttotal: 22.6s\tremaining: 7s\n",
      "763:\tlearn: 0.2279523\ttotal: 22.6s\tremaining: 6.97s\n",
      "764:\tlearn: 0.2278760\ttotal: 22.6s\tremaining: 6.94s\n",
      "765:\tlearn: 0.2277052\ttotal: 22.6s\tremaining: 6.91s\n",
      "766:\tlearn: 0.2276121\ttotal: 22.7s\tremaining: 6.88s\n",
      "767:\tlearn: 0.2273930\ttotal: 22.7s\tremaining: 6.85s\n",
      "768:\tlearn: 0.2272980\ttotal: 22.7s\tremaining: 6.82s\n",
      "769:\tlearn: 0.2271984\ttotal: 22.7s\tremaining: 6.79s\n",
      "770:\tlearn: 0.2270842\ttotal: 22.8s\tremaining: 6.76s\n",
      "771:\tlearn: 0.2269637\ttotal: 22.8s\tremaining: 6.73s\n",
      "772:\tlearn: 0.2268265\ttotal: 22.8s\tremaining: 6.7s\n",
      "773:\tlearn: 0.2266318\ttotal: 22.9s\tremaining: 6.67s\n",
      "774:\tlearn: 0.2264964\ttotal: 22.9s\tremaining: 6.64s\n",
      "775:\tlearn: 0.2263746\ttotal: 22.9s\tremaining: 6.61s\n",
      "776:\tlearn: 0.2262824\ttotal: 22.9s\tremaining: 6.58s\n",
      "777:\tlearn: 0.2261921\ttotal: 23s\tremaining: 6.55s\n",
      "778:\tlearn: 0.2260208\ttotal: 23s\tremaining: 6.52s\n",
      "779:\tlearn: 0.2258488\ttotal: 23s\tremaining: 6.49s\n",
      "780:\tlearn: 0.2257478\ttotal: 23s\tremaining: 6.46s\n",
      "781:\tlearn: 0.2256449\ttotal: 23.1s\tremaining: 6.43s\n",
      "782:\tlearn: 0.2255063\ttotal: 23.1s\tremaining: 6.4s\n",
      "783:\tlearn: 0.2254247\ttotal: 23.1s\tremaining: 6.37s\n",
      "784:\tlearn: 0.2252981\ttotal: 23.1s\tremaining: 6.34s\n",
      "785:\tlearn: 0.2251983\ttotal: 23.2s\tremaining: 6.31s\n",
      "786:\tlearn: 0.2251254\ttotal: 23.2s\tremaining: 6.28s\n",
      "787:\tlearn: 0.2249569\ttotal: 23.2s\tremaining: 6.25s\n",
      "788:\tlearn: 0.2248097\ttotal: 23.3s\tremaining: 6.22s\n",
      "789:\tlearn: 0.2246716\ttotal: 23.3s\tremaining: 6.19s\n",
      "790:\tlearn: 0.2245580\ttotal: 23.3s\tremaining: 6.16s\n",
      "791:\tlearn: 0.2244559\ttotal: 23.3s\tremaining: 6.13s\n",
      "792:\tlearn: 0.2243681\ttotal: 23.4s\tremaining: 6.1s\n",
      "793:\tlearn: 0.2242871\ttotal: 23.4s\tremaining: 6.07s\n",
      "794:\tlearn: 0.2241934\ttotal: 23.4s\tremaining: 6.04s\n",
      "795:\tlearn: 0.2240068\ttotal: 23.4s\tremaining: 6.01s\n",
      "796:\tlearn: 0.2238732\ttotal: 23.5s\tremaining: 5.98s\n",
      "797:\tlearn: 0.2237656\ttotal: 23.5s\tremaining: 5.95s\n",
      "798:\tlearn: 0.2236661\ttotal: 23.5s\tremaining: 5.92s\n",
      "799:\tlearn: 0.2235757\ttotal: 23.5s\tremaining: 5.89s\n",
      "800:\tlearn: 0.2234147\ttotal: 23.6s\tremaining: 5.86s\n",
      "801:\tlearn: 0.2233202\ttotal: 23.6s\tremaining: 5.83s\n",
      "802:\tlearn: 0.2232170\ttotal: 23.6s\tremaining: 5.8s\n",
      "803:\tlearn: 0.2231024\ttotal: 23.7s\tremaining: 5.77s\n",
      "804:\tlearn: 0.2229805\ttotal: 23.7s\tremaining: 5.74s\n",
      "805:\tlearn: 0.2228404\ttotal: 23.7s\tremaining: 5.71s\n",
      "806:\tlearn: 0.2227291\ttotal: 23.7s\tremaining: 5.67s\n",
      "807:\tlearn: 0.2226034\ttotal: 23.8s\tremaining: 5.64s\n",
      "808:\tlearn: 0.2224659\ttotal: 23.8s\tremaining: 5.62s\n",
      "809:\tlearn: 0.2223410\ttotal: 23.8s\tremaining: 5.59s\n",
      "810:\tlearn: 0.2222121\ttotal: 23.8s\tremaining: 5.56s\n",
      "811:\tlearn: 0.2220973\ttotal: 23.9s\tremaining: 5.53s\n",
      "812:\tlearn: 0.2218670\ttotal: 23.9s\tremaining: 5.5s\n",
      "813:\tlearn: 0.2217567\ttotal: 23.9s\tremaining: 5.46s\n",
      "814:\tlearn: 0.2216633\ttotal: 23.9s\tremaining: 5.43s\n",
      "815:\tlearn: 0.2215804\ttotal: 24s\tremaining: 5.4s\n"
     ]
    },
    {
     "name": "stdout",
     "output_type": "stream",
     "text": [
      "816:\tlearn: 0.2215178\ttotal: 24s\tremaining: 5.38s\n",
      "817:\tlearn: 0.2213871\ttotal: 24s\tremaining: 5.34s\n",
      "818:\tlearn: 0.2212542\ttotal: 24.1s\tremaining: 5.32s\n",
      "819:\tlearn: 0.2211781\ttotal: 24.1s\tremaining: 5.29s\n",
      "820:\tlearn: 0.2210010\ttotal: 24.1s\tremaining: 5.25s\n",
      "821:\tlearn: 0.2208840\ttotal: 24.1s\tremaining: 5.22s\n",
      "822:\tlearn: 0.2207940\ttotal: 24.2s\tremaining: 5.19s\n",
      "823:\tlearn: 0.2204768\ttotal: 24.2s\tremaining: 5.16s\n",
      "824:\tlearn: 0.2202854\ttotal: 24.2s\tremaining: 5.13s\n",
      "825:\tlearn: 0.2201639\ttotal: 24.2s\tremaining: 5.11s\n",
      "826:\tlearn: 0.2200411\ttotal: 24.3s\tremaining: 5.08s\n",
      "827:\tlearn: 0.2199413\ttotal: 24.3s\tremaining: 5.04s\n",
      "828:\tlearn: 0.2197686\ttotal: 24.3s\tremaining: 5.01s\n",
      "829:\tlearn: 0.2196344\ttotal: 24.3s\tremaining: 4.99s\n",
      "830:\tlearn: 0.2195191\ttotal: 24.4s\tremaining: 4.96s\n",
      "831:\tlearn: 0.2193832\ttotal: 24.4s\tremaining: 4.92s\n",
      "832:\tlearn: 0.2192722\ttotal: 24.4s\tremaining: 4.9s\n",
      "833:\tlearn: 0.2191436\ttotal: 24.4s\tremaining: 4.87s\n",
      "834:\tlearn: 0.2190101\ttotal: 24.5s\tremaining: 4.84s\n",
      "835:\tlearn: 0.2189348\ttotal: 24.5s\tremaining: 4.81s\n",
      "836:\tlearn: 0.2188461\ttotal: 24.5s\tremaining: 4.78s\n",
      "837:\tlearn: 0.2187357\ttotal: 24.6s\tremaining: 4.75s\n",
      "838:\tlearn: 0.2186735\ttotal: 24.6s\tremaining: 4.71s\n",
      "839:\tlearn: 0.2185598\ttotal: 24.6s\tremaining: 4.69s\n",
      "840:\tlearn: 0.2184307\ttotal: 24.6s\tremaining: 4.66s\n",
      "841:\tlearn: 0.2183324\ttotal: 24.7s\tremaining: 4.63s\n",
      "842:\tlearn: 0.2182240\ttotal: 24.7s\tremaining: 4.6s\n",
      "843:\tlearn: 0.2181523\ttotal: 24.7s\tremaining: 4.57s\n",
      "844:\tlearn: 0.2180766\ttotal: 24.7s\tremaining: 4.54s\n",
      "845:\tlearn: 0.2179736\ttotal: 24.8s\tremaining: 4.51s\n",
      "846:\tlearn: 0.2178712\ttotal: 24.8s\tremaining: 4.48s\n",
      "847:\tlearn: 0.2177595\ttotal: 24.8s\tremaining: 4.45s\n",
      "848:\tlearn: 0.2176403\ttotal: 24.8s\tremaining: 4.42s\n",
      "849:\tlearn: 0.2175354\ttotal: 24.9s\tremaining: 4.39s\n",
      "850:\tlearn: 0.2174331\ttotal: 24.9s\tremaining: 4.36s\n",
      "851:\tlearn: 0.2173638\ttotal: 24.9s\tremaining: 4.33s\n",
      "852:\tlearn: 0.2172288\ttotal: 24.9s\tremaining: 4.3s\n",
      "853:\tlearn: 0.2171508\ttotal: 25s\tremaining: 4.27s\n",
      "854:\tlearn: 0.2170371\ttotal: 25s\tremaining: 4.24s\n",
      "855:\tlearn: 0.2169163\ttotal: 25s\tremaining: 4.21s\n",
      "856:\tlearn: 0.2168487\ttotal: 25.1s\tremaining: 4.18s\n",
      "857:\tlearn: 0.2167729\ttotal: 25.1s\tremaining: 4.15s\n",
      "858:\tlearn: 0.2166849\ttotal: 25.1s\tremaining: 4.12s\n",
      "859:\tlearn: 0.2165737\ttotal: 25.1s\tremaining: 4.09s\n",
      "860:\tlearn: 0.2164664\ttotal: 25.2s\tremaining: 4.06s\n",
      "861:\tlearn: 0.2163454\ttotal: 25.2s\tremaining: 4.03s\n",
      "862:\tlearn: 0.2162672\ttotal: 25.2s\tremaining: 4s\n",
      "863:\tlearn: 0.2161900\ttotal: 25.2s\tremaining: 3.97s\n",
      "864:\tlearn: 0.2161230\ttotal: 25.3s\tremaining: 3.94s\n",
      "865:\tlearn: 0.2160093\ttotal: 25.3s\tremaining: 3.91s\n",
      "866:\tlearn: 0.2159097\ttotal: 25.3s\tremaining: 3.88s\n",
      "867:\tlearn: 0.2157945\ttotal: 25.3s\tremaining: 3.85s\n",
      "868:\tlearn: 0.2157133\ttotal: 25.4s\tremaining: 3.82s\n",
      "869:\tlearn: 0.2156872\ttotal: 25.4s\tremaining: 3.79s\n",
      "870:\tlearn: 0.2155739\ttotal: 25.4s\tremaining: 3.77s\n",
      "871:\tlearn: 0.2154793\ttotal: 25.4s\tremaining: 3.73s\n",
      "872:\tlearn: 0.2153734\ttotal: 25.5s\tremaining: 3.71s\n",
      "873:\tlearn: 0.2152954\ttotal: 25.5s\tremaining: 3.68s\n",
      "874:\tlearn: 0.2151760\ttotal: 25.5s\tremaining: 3.65s\n",
      "875:\tlearn: 0.2151065\ttotal: 25.6s\tremaining: 3.62s\n",
      "876:\tlearn: 0.2149850\ttotal: 25.6s\tremaining: 3.59s\n",
      "877:\tlearn: 0.2149038\ttotal: 25.6s\tremaining: 3.56s\n",
      "878:\tlearn: 0.2147971\ttotal: 25.6s\tremaining: 3.53s\n",
      "879:\tlearn: 0.2146568\ttotal: 25.7s\tremaining: 3.5s\n",
      "880:\tlearn: 0.2145358\ttotal: 25.7s\tremaining: 3.47s\n",
      "881:\tlearn: 0.2144704\ttotal: 25.7s\tremaining: 3.44s\n",
      "882:\tlearn: 0.2143646\ttotal: 25.8s\tremaining: 3.41s\n",
      "883:\tlearn: 0.2142803\ttotal: 25.8s\tremaining: 3.39s\n",
      "884:\tlearn: 0.2142043\ttotal: 25.9s\tremaining: 3.36s\n",
      "885:\tlearn: 0.2140994\ttotal: 26.1s\tremaining: 3.35s\n",
      "886:\tlearn: 0.2140153\ttotal: 26.2s\tremaining: 3.34s\n",
      "887:\tlearn: 0.2138833\ttotal: 26.3s\tremaining: 3.32s\n",
      "888:\tlearn: 0.2138150\ttotal: 26.4s\tremaining: 3.29s\n",
      "889:\tlearn: 0.2136986\ttotal: 26.4s\tremaining: 3.26s\n",
      "890:\tlearn: 0.2135984\ttotal: 26.4s\tremaining: 3.23s\n",
      "891:\tlearn: 0.2135204\ttotal: 26.5s\tremaining: 3.21s\n",
      "892:\tlearn: 0.2133709\ttotal: 26.5s\tremaining: 3.18s\n",
      "893:\tlearn: 0.2132775\ttotal: 26.6s\tremaining: 3.15s\n",
      "894:\tlearn: 0.2131624\ttotal: 26.6s\tremaining: 3.12s\n",
      "895:\tlearn: 0.2130775\ttotal: 26.7s\tremaining: 3.09s\n",
      "896:\tlearn: 0.2129646\ttotal: 26.7s\tremaining: 3.07s\n",
      "897:\tlearn: 0.2128390\ttotal: 26.9s\tremaining: 3.05s\n",
      "898:\tlearn: 0.2127087\ttotal: 26.9s\tremaining: 3.02s\n",
      "899:\tlearn: 0.2125871\ttotal: 27s\tremaining: 3s\n",
      "900:\tlearn: 0.2125111\ttotal: 27s\tremaining: 2.97s\n",
      "901:\tlearn: 0.2123793\ttotal: 27.1s\tremaining: 2.94s\n",
      "902:\tlearn: 0.2122906\ttotal: 27.1s\tremaining: 2.92s\n",
      "903:\tlearn: 0.2121733\ttotal: 27.2s\tremaining: 2.89s\n",
      "904:\tlearn: 0.2120611\ttotal: 27.2s\tremaining: 2.86s\n",
      "905:\tlearn: 0.2119427\ttotal: 27.3s\tremaining: 2.83s\n",
      "906:\tlearn: 0.2118280\ttotal: 27.3s\tremaining: 2.8s\n",
      "907:\tlearn: 0.2117491\ttotal: 27.3s\tremaining: 2.77s\n",
      "908:\tlearn: 0.2116176\ttotal: 27.4s\tremaining: 2.74s\n",
      "909:\tlearn: 0.2115208\ttotal: 27.4s\tremaining: 2.71s\n",
      "910:\tlearn: 0.2114297\ttotal: 27.4s\tremaining: 2.68s\n",
      "911:\tlearn: 0.2113124\ttotal: 27.5s\tremaining: 2.65s\n",
      "912:\tlearn: 0.2112233\ttotal: 27.5s\tremaining: 2.62s\n",
      "913:\tlearn: 0.2111166\ttotal: 27.6s\tremaining: 2.59s\n",
      "914:\tlearn: 0.2109585\ttotal: 27.6s\tremaining: 2.56s\n",
      "915:\tlearn: 0.2108466\ttotal: 27.6s\tremaining: 2.53s\n",
      "916:\tlearn: 0.2107188\ttotal: 27.7s\tremaining: 2.5s\n",
      "917:\tlearn: 0.2106621\ttotal: 27.7s\tremaining: 2.48s\n",
      "918:\tlearn: 0.2105285\ttotal: 27.8s\tremaining: 2.45s\n",
      "919:\tlearn: 0.2104056\ttotal: 27.8s\tremaining: 2.42s\n",
      "920:\tlearn: 0.2103311\ttotal: 27.8s\tremaining: 2.39s\n",
      "921:\tlearn: 0.2102190\ttotal: 27.9s\tremaining: 2.36s\n",
      "922:\tlearn: 0.2100630\ttotal: 27.9s\tremaining: 2.33s\n",
      "923:\tlearn: 0.2099615\ttotal: 27.9s\tremaining: 2.3s\n",
      "924:\tlearn: 0.2098679\ttotal: 28s\tremaining: 2.27s\n",
      "925:\tlearn: 0.2097773\ttotal: 28s\tremaining: 2.24s\n",
      "926:\tlearn: 0.2096770\ttotal: 28s\tremaining: 2.21s\n",
      "927:\tlearn: 0.2095763\ttotal: 28s\tremaining: 2.17s\n",
      "928:\tlearn: 0.2094840\ttotal: 28.1s\tremaining: 2.15s\n",
      "929:\tlearn: 0.2093439\ttotal: 28.1s\tremaining: 2.12s\n",
      "930:\tlearn: 0.2092080\ttotal: 28.1s\tremaining: 2.08s\n",
      "931:\tlearn: 0.2090842\ttotal: 28.2s\tremaining: 2.05s\n",
      "932:\tlearn: 0.2089690\ttotal: 28.2s\tremaining: 2.02s\n",
      "933:\tlearn: 0.2088732\ttotal: 28.2s\tremaining: 1.99s\n",
      "934:\tlearn: 0.2087905\ttotal: 28.3s\tremaining: 1.96s\n",
      "935:\tlearn: 0.2086571\ttotal: 28.3s\tremaining: 1.93s\n",
      "936:\tlearn: 0.2085841\ttotal: 28.3s\tremaining: 1.9s\n",
      "937:\tlearn: 0.2085085\ttotal: 28.3s\tremaining: 1.87s\n",
      "938:\tlearn: 0.2084252\ttotal: 28.4s\tremaining: 1.84s\n",
      "939:\tlearn: 0.2083474\ttotal: 28.4s\tremaining: 1.81s\n",
      "940:\tlearn: 0.2082633\ttotal: 28.4s\tremaining: 1.78s\n",
      "941:\tlearn: 0.2081908\ttotal: 28.5s\tremaining: 1.75s\n",
      "942:\tlearn: 0.2080309\ttotal: 28.5s\tremaining: 1.72s\n",
      "943:\tlearn: 0.2079384\ttotal: 28.5s\tremaining: 1.69s\n",
      "944:\tlearn: 0.2078586\ttotal: 28.6s\tremaining: 1.66s\n",
      "945:\tlearn: 0.2077238\ttotal: 28.6s\tremaining: 1.63s\n",
      "946:\tlearn: 0.2076358\ttotal: 28.6s\tremaining: 1.6s\n",
      "947:\tlearn: 0.2075398\ttotal: 28.7s\tremaining: 1.57s\n",
      "948:\tlearn: 0.2074713\ttotal: 28.7s\tremaining: 1.54s\n",
      "949:\tlearn: 0.2073574\ttotal: 28.7s\tremaining: 1.51s\n",
      "950:\tlearn: 0.2072876\ttotal: 28.8s\tremaining: 1.48s\n",
      "951:\tlearn: 0.2071929\ttotal: 28.8s\tremaining: 1.45s\n",
      "952:\tlearn: 0.2070834\ttotal: 28.8s\tremaining: 1.42s\n",
      "953:\tlearn: 0.2069430\ttotal: 28.9s\tremaining: 1.39s\n",
      "954:\tlearn: 0.2068730\ttotal: 28.9s\tremaining: 1.36s\n",
      "955:\tlearn: 0.2067651\ttotal: 28.9s\tremaining: 1.33s\n",
      "956:\tlearn: 0.2066850\ttotal: 29s\tremaining: 1.3s\n",
      "957:\tlearn: 0.2066065\ttotal: 29s\tremaining: 1.27s\n",
      "958:\tlearn: 0.2064939\ttotal: 29s\tremaining: 1.24s\n",
      "959:\tlearn: 0.2063442\ttotal: 29.1s\tremaining: 1.21s\n",
      "960:\tlearn: 0.2062488\ttotal: 29.1s\tremaining: 1.18s\n",
      "961:\tlearn: 0.2061499\ttotal: 29.2s\tremaining: 1.15s\n",
      "962:\tlearn: 0.2060659\ttotal: 29.2s\tremaining: 1.12s\n",
      "963:\tlearn: 0.2059597\ttotal: 29.3s\tremaining: 1.09s\n",
      "964:\tlearn: 0.2057952\ttotal: 29.3s\tremaining: 1.06s\n",
      "965:\tlearn: 0.2057113\ttotal: 29.3s\tremaining: 1.03s\n",
      "966:\tlearn: 0.2055573\ttotal: 29.3s\tremaining: 1s\n",
      "967:\tlearn: 0.2054389\ttotal: 29.4s\tremaining: 971ms\n",
      "968:\tlearn: 0.2053704\ttotal: 29.5s\tremaining: 943ms\n",
      "969:\tlearn: 0.2051327\ttotal: 29.5s\tremaining: 913ms\n",
      "970:\tlearn: 0.2050310\ttotal: 29.6s\tremaining: 883ms\n",
      "971:\tlearn: 0.2049466\ttotal: 29.6s\tremaining: 853ms\n",
      "972:\tlearn: 0.2048723\ttotal: 29.7s\tremaining: 824ms\n",
      "973:\tlearn: 0.2047803\ttotal: 29.7s\tremaining: 794ms\n",
      "974:\tlearn: 0.2046989\ttotal: 29.8s\tremaining: 764ms\n",
      "975:\tlearn: 0.2046096\ttotal: 29.8s\tremaining: 733ms\n",
      "976:\tlearn: 0.2045107\ttotal: 29.9s\tremaining: 703ms\n"
     ]
    },
    {
     "name": "stdout",
     "output_type": "stream",
     "text": [
      "977:\tlearn: 0.2044284\ttotal: 29.9s\tremaining: 672ms\n",
      "978:\tlearn: 0.2043677\ttotal: 29.9s\tremaining: 642ms\n",
      "979:\tlearn: 0.2042705\ttotal: 30s\tremaining: 612ms\n",
      "980:\tlearn: 0.2041351\ttotal: 30s\tremaining: 581ms\n",
      "981:\tlearn: 0.2040327\ttotal: 30.1s\tremaining: 551ms\n",
      "982:\tlearn: 0.2039756\ttotal: 30.1s\tremaining: 520ms\n",
      "983:\tlearn: 0.2038703\ttotal: 30.1s\tremaining: 490ms\n",
      "984:\tlearn: 0.2038033\ttotal: 30.2s\tremaining: 459ms\n",
      "985:\tlearn: 0.2037254\ttotal: 30.2s\tremaining: 429ms\n",
      "986:\tlearn: 0.2036571\ttotal: 30.3s\tremaining: 399ms\n",
      "987:\tlearn: 0.2035801\ttotal: 30.3s\tremaining: 368ms\n",
      "988:\tlearn: 0.2034844\ttotal: 30.4s\tremaining: 338ms\n",
      "989:\tlearn: 0.2034309\ttotal: 30.4s\tremaining: 307ms\n",
      "990:\tlearn: 0.2033367\ttotal: 30.5s\tremaining: 277ms\n",
      "991:\tlearn: 0.2032066\ttotal: 30.5s\tremaining: 246ms\n",
      "992:\tlearn: 0.2030976\ttotal: 30.6s\tremaining: 215ms\n",
      "993:\tlearn: 0.2030051\ttotal: 30.6s\tremaining: 185ms\n",
      "994:\tlearn: 0.2029357\ttotal: 30.7s\tremaining: 154ms\n",
      "995:\tlearn: 0.2028509\ttotal: 30.7s\tremaining: 123ms\n",
      "996:\tlearn: 0.2027495\ttotal: 30.8s\tremaining: 92.7ms\n",
      "997:\tlearn: 0.2026264\ttotal: 30.9s\tremaining: 61.9ms\n",
      "998:\tlearn: 0.2025406\ttotal: 31s\tremaining: 31ms\n",
      "999:\tlearn: 0.2024905\ttotal: 31s\tremaining: 0us\n"
     ]
    }
   ],
   "source": [
    "classifier2  = CatBoostClassifier()\n",
    "\n",
    "#train the model \n",
    "classifier2.fit(X_train,y_train)\n",
    "\n",
    "# make predicition on test set \n",
    "\n",
    "preds = classifier2.predict(X_test)"
   ]
  },
  {
   "cell_type": "code",
   "execution_count": 52,
   "metadata": {},
   "outputs": [
    {
     "data": {
      "text/plain": [
       "['/Users/Lenovo/Desktop/Project/model/catboost-model2.pkl']"
      ]
     },
     "execution_count": 52,
     "metadata": {},
     "output_type": "execute_result"
    }
   ],
   "source": [
    "joblib.dump(classifier2,'/Users/Lenovo/Desktop/Project/model/catboost-model2.pkl')"
   ]
  },
  {
   "cell_type": "code",
   "execution_count": 53,
   "metadata": {},
   "outputs": [
    {
     "name": "stdout",
     "output_type": "stream",
     "text": [
      "81.30%\n"
     ]
    }
   ],
   "source": [
    "from sklearn.metrics import accuracy_score\n",
    "\n",
    "model_score = accuracy_score(y_test,preds)\n",
    "\n",
    "print(\"{:.2f}%\".format(model_score*100))"
   ]
  },
  {
   "cell_type": "code",
   "execution_count": 54,
   "metadata": {},
   "outputs": [
    {
     "data": {
      "image/png": "[encoded data removed]",
      "text/plain": [
       "<Figure size 432x288 with 2 Axes>"
      ]
     },
     "metadata": {},
     "output_type": "display_data"
    }
   ],
   "source": [
    "from sklearn.metrics import confusion_matrix, ConfusionMatrixDisplay\n",
    "\n",
    "#Compute confusion matrix to evaluate the accuracy of a classification.\n",
    "confusion_table = confusion_matrix(y_test, preds)\n",
    "\n",
    "#Confusion Matrix visualization.\n",
    "cm_display = ConfusionMatrixDisplay(confusion_matrix=confusion_table,\n",
    "                                    display_labels=['No', 'Yes'])\n",
    "#create the plot\n",
    "cm_display.plot()\n",
    "\n",
    "#display the plot\n",
    "plt.show()"
   ]
  },
  {
   "cell_type": "code",
   "execution_count": 55,
   "metadata": {},
   "outputs": [
    {
     "data": {
      "text/plain": [
       "0.6544217687074829"
      ]
     },
     "execution_count": 55,
     "metadata": {},
     "output_type": "execute_result"
    }
   ],
   "source": [
    "from sklearn.metrics import f1_score\n",
    "\n",
    "score = f1_score(y_test,preds,)\n",
    "\n",
    "score "
   ]
  },
  {
   "cell_type": "code",
   "execution_count": null,
   "metadata": {},
   "outputs": [],
   "source": [
    "!pip install imblearn"
   ]
  },
  {
   "cell_type": "code",
   "execution_count": null,
   "metadata": {},
   "outputs": [],
   "source": [
    "import pickle as pkl"
   ]
  },
  {
   "cell_type": "code",
   "execution_count": null,
   "metadata": {},
   "outputs": [],
   "source": [
    "pickle_out1=open(\"classifier2.pkl\",\"wb\")"
   ]
  },
  {
   "cell_type": "code",
   "execution_count": null,
   "metadata": {},
   "outputs": [],
   "source": [
    "pkl.dump(classifier2,pickle_out1)"
   ]
  },
  {
   "cell_type": "code",
   "execution_count": null,
   "metadata": {},
   "outputs": [],
   "source": [
    "pickle_out1.close()"
   ]
  },
  {
   "cell_type": "code",
   "execution_count": null,
   "metadata": {},
   "outputs": [],
   "source": [
    "sklearn.__version__"
   ]
  },
  {
   "cell_type": "code",
   "execution_count": null,
   "metadata": {},
   "outputs": [],
   "source": [
    "import sklearn"
   ]
  },
  {
   "cell_type": "code",
   "execution_count": null,
   "metadata": {},
   "outputs": [],
   "source": [
    "sklea"
   ]
  }
 ],
 "metadata": {
  "hide_input": false,
  "kernel_info": {
   "name": "python3"
  },
  "kernelspec": {
   "display_name": "Python 3 (ipykernel)",
   "language": "python",
   "name": "python3"
  },
  "language_info": {
   "codemirror_mode": {
    "name": "ipython",
    "version": 3
   },
   "file_extension": ".py",
   "mimetype": "text/x-python",
   "name": "python",
   "nbconvert_exporter": "python",
   "pygments_lexer": "ipython3",
   "version": "3.9.12"
  },
  "nteract": {
   "version": "0.15.0"
  },
  "toc": {
   "base_numbering": 1,
   "nav_menu": {},
   "number_sections": true,
   "sideBar": true,
   "skip_h1_title": false,
   "title_cell": "Table of Contents",
   "title_sidebar": "Contents",
   "toc_cell": false,
   "toc_position": {},
   "toc_section_display": true,
   "toc_window_display": false
  }
 },
 "nbformat": 4,
 "nbformat_minor": 2
}
